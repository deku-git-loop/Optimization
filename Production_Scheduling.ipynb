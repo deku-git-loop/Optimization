{
  "nbformat": 4,
  "nbformat_minor": 0,
  "metadata": {
    "colab": {
      "provenance": []
    },
    "kernelspec": {
      "name": "python3",
      "display_name": "Python 3"
    },
    "language_info": {
      "name": "python"
    }
  },
  "cells": [
    {
      "cell_type": "markdown",
      "source": [],
      "metadata": {
        "id": "HK6x6j6Ovji4"
      }
    },
    {
      "cell_type": "markdown",
      "source": [
        "![LP_HW7.png](data:image/png;base64,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)"
      ],
      "metadata": {
        "id": "DtZBZfRovoO4"
      }
    },
    {
      "cell_type": "markdown",
      "source": [
        "Min Z=10x1​ + 10x2​ + 15x3​ + 15x4​ + 15x5​ + 20x6 ​+ 3x7​ + 3x8 ​+ 3x9​\n",
        "\n",
        "s.t.  \n",
        "x1 ​− x7 ​= 300  \n",
        "x2​ + x7​ − x8​ + x5 ​= 700  \n",
        "x3​ + x8 ​− x9​ + x6 ​= 900  \n",
        "x4​ + x9 ​= 800  \n",
        "x1​ ≤ 700  \n",
        "x2​ ≤ 700  \n",
        "x3 ≤ 700  \n",
        "x4​ ≤ 700  \n",
        "x5​ ≤ 200  \n",
        "x6​ ≤ 200  \n",
        "\n",
        "x1​,x2​,x3​,x4​,x5​,x6​,x7​,x8​,x9​≥0  \n",
        "\n",
        "\n"
      ],
      "metadata": {
        "id": "9676cbiKvuFD"
      }
    },
    {
      "cell_type": "markdown",
      "source": [
        "Make inital table\n",
        "x1 x2 x3 x4 x5 x6 x7 x8 x9 s1 s2 s3 s4 s5 s6 a1 a2 a3 a4 b  \n",
        "a1, a2, a3, a4 are artifical variables for first four equalities  \n",
        "s1, s2, s3, s4, s5, s6 are slack variables for next 6 inequalties  \n",
        "new objective function , z = a1 + a2 + a3 + a4 (phase 1)"
      ],
      "metadata": {
        "id": "NyCCoC_rzgah"
      }
    },
    {
      "cell_type": "code",
      "source": [
        "import numpy as np\n",
        "np.set_printoptions(linewidth=200, suppress=True)\n",
        "table = [\n",
        "    [1, 0, 0, 0, 0, 0, -1, 0, 0, 0, 0, 0, 0, 0, 0, 1, 0, 0, 0, 300],  # Constraint 1: x1 - x7 + a1 = 300\n",
        "    [0, 1, 0, 0, 1, 0, 1, -1, 0, 0, 0, 0, 0, 0, 0, 0, 1, 0, 0, 700],  # Constraint 2: x2 + x7 - x8 + x5 + a2 = 700\n",
        "    [0, 0, 1, 0, 0, 1, 0, 1, -1, 0, 0, 0, 0, 0, 0, 0, 0, 1, 0, 900],  # Constraint 3: x3 + x8 - x9 + x6 + a3 = 900\n",
        "    [0, 0, 0, 1, 0, 0, 0, 0, 1, 0, 0, 0, 0, 0, 0, 0, 0, 0, 1, 800],  # Constraint 4: x4 + x9 + a4 = 800\n",
        "    [1, 0, 0, 0, 0, 0, 0, 0, 0, 1, 0, 0, 0, 0, 0, 0, 0, 0, 0, 700],  # Constraint 5: x1 + s1 = 700\n",
        "    [0, 1, 0, 0, 0, 0, 0, 0, 0, 0, 1, 0, 0, 0, 0, 0, 0, 0, 0, 700],  # Constraint 6: x2 + s2 = 700\n",
        "    [0, 0, 1, 0, 0, 0, 0, 0, 0, 0, 0, 1, 0, 0, 0, 0, 0, 0, 0, 700],  # Constraint 7: x3 + s3 = 700\n",
        "    [0, 0, 0, 1, 0, 0, 0, 0, 0, 0, 0, 0, 1, 0, 0, 0, 0, 0, 0, 700],  # Constraint 8: x4 + s4 = 700\n",
        "    [0, 0, 0, 0, 1, 0, 0, 0, 0, 0, 0, 0, 0, 1, 0, 0, 0, 0, 0, 200],  # Constraint 9: x5 + s5 = 200\n",
        "    [0, 0, 0, 0, 0, 1, 0, 0, 0, 0, 0, 0, 0, 0, 1, 0, 0, 0, 0, 200],  # Constraint 10: x6 + s6 = 200\n",
        "    [0, 0, 0, 0, 0, 0, 0, 0, 0, 0, 0, 0, 0, 0, 0, 1, 1, 1, 1, 0]   #objective: a1 + a2 + a3 + a4 = z\n",
        "]\n",
        "tableau = np.array(table)"
      ],
      "metadata": {
        "id": "JZ7gIpZEzSoe"
      },
      "execution_count": 59,
      "outputs": []
    },
    {
      "cell_type": "code",
      "source": [
        "num_vars = 19\n",
        "#changing relative costs to make a1 a2 a3 a4 basic variables\n",
        "tableau[-1,:] = tableau[-1,:] - tableau[0,:] - tableau[1,:] - tableau[2,:] - tableau[3,:]\n",
        "print(tableau)"
      ],
      "metadata": {
        "colab": {
          "base_uri": "https://localhost:8080/"
        },
        "id": "_YKADd8i3HAn",
        "outputId": "1a20ef43-8541-4fe4-9f1b-6e206a397c8b"
      },
      "execution_count": 60,
      "outputs": [
        {
          "output_type": "stream",
          "name": "stdout",
          "text": [
            "[[    1     0     0     0     0     0    -1     0     0     0     0     0     0     0     0     1     0     0     0   300]\n",
            " [    0     1     0     0     1     0     1    -1     0     0     0     0     0     0     0     0     1     0     0   700]\n",
            " [    0     0     1     0     0     1     0     1    -1     0     0     0     0     0     0     0     0     1     0   900]\n",
            " [    0     0     0     1     0     0     0     0     1     0     0     0     0     0     0     0     0     0     1   800]\n",
            " [    1     0     0     0     0     0     0     0     0     1     0     0     0     0     0     0     0     0     0   700]\n",
            " [    0     1     0     0     0     0     0     0     0     0     1     0     0     0     0     0     0     0     0   700]\n",
            " [    0     0     1     0     0     0     0     0     0     0     0     1     0     0     0     0     0     0     0   700]\n",
            " [    0     0     0     1     0     0     0     0     0     0     0     0     1     0     0     0     0     0     0   700]\n",
            " [    0     0     0     0     1     0     0     0     0     0     0     0     0     1     0     0     0     0     0   200]\n",
            " [    0     0     0     0     0     1     0     0     0     0     0     0     0     0     1     0     0     0     0   200]\n",
            " [   -1    -1    -1    -1    -1    -1     0     0     0     0     0     0     0     0     0     0     0     0     0 -2700]]\n"
          ]
        }
      ]
    },
    {
      "cell_type": "code",
      "source": [
        "import numpy as np\n",
        "\n",
        "def simplex_algorithm(tableau, num_vars):\n",
        "\n",
        "    tableau = np.array(tableau, dtype=float)  # Ensure tableau is a numpy array with float values\n",
        "\n",
        "    num_rows, num_cols = tableau.shape\n",
        "\n",
        "    while True:\n",
        "        # Step 1: Check if optimality is reached (no negative values in the objective function row)\n",
        "        # The objective function row is the last row of the tableau\n",
        "        if all(tableau[-1, :-1] >= 0):\n",
        "            break  # If all values in the last row are >= 0, we are done\n",
        "\n",
        "        # Step 2: Find entering variable (most negative value in the last row)\n",
        "        pivot_col = np.argmin(tableau[-1, :-1])  # Column with the most negative coefficient\n",
        "\n",
        "        # Step 3: Find the leaving variable (minimum positive ratio of RHS to pivot column)\n",
        "        ratios = []\n",
        "        for i in range(num_rows - 1):\n",
        "            if tableau[i, pivot_col] > 0:\n",
        "                ratios.append(tableau[i, -1] / tableau[i, pivot_col])\n",
        "            else:\n",
        "                ratios.append(float('inf'))  # Ignore negative or zero entries\n",
        "\n",
        "        pivot_row = np.argmin(ratios)  # Row with the minimum positive ratio\n",
        "\n",
        "        # Step 4: Perform the pivot (normalize pivot row and update other rows)\n",
        "        pivot_value = tableau[pivot_row, pivot_col]\n",
        "        tableau[pivot_row, :] /= pivot_value  # Normalize pivot row\n",
        "\n",
        "        for i in range(num_rows):\n",
        "            if i != pivot_row:\n",
        "                row_factor = tableau[i, pivot_col]\n",
        "                tableau[i, :] -= row_factor * tableau[pivot_row, :]\n",
        "\n",
        "        # Continue looping until we reach optimality\n",
        "\n",
        "    # Step 5: Extract the optimal solution\n",
        "    optimal_values = [0] * num_vars\n",
        "    for i in range(num_vars):\n",
        "        # If a column corresponds to a basic variable, it will have exactly one 1 and the rest 0s\n",
        "        column = tableau[:, i]\n",
        "        if np.count_nonzero(column[:-1]) == 1 and np.sum(column[:-1]) == 1:\n",
        "            row_index = np.where(column == 1)[0][0]\n",
        "            optimal_values[i] = tableau[row_index, -1]\n",
        "\n",
        "    return tableau, optimal_values"
      ],
      "metadata": {
        "id": "uiK1sUj73JUY"
      },
      "execution_count": 61,
      "outputs": []
    },
    {
      "cell_type": "code",
      "source": [
        "tableau_2, optimal_values = simplex_algorithm(tableau, num_vars)"
      ],
      "metadata": {
        "id": "Azlkoitt5oHi"
      },
      "execution_count": 62,
      "outputs": []
    },
    {
      "cell_type": "code",
      "source": [
        "print(tableau_2)\n",
        "print(optimal_values)"
      ],
      "metadata": {
        "colab": {
          "base_uri": "https://localhost:8080/"
        },
        "id": "BMbRrnqQfrcA",
        "outputId": "919abcbe-605f-406b-bdd3-35e85e00793b"
      },
      "execution_count": 63,
      "outputs": [
        {
          "output_type": "stream",
          "name": "stdout",
          "text": [
            "[[  1.   0.   0.   0.   0.   0.  -1.   0.   0.   0.   0.   0.   0.   0.   0.   1.   0.   0.   0. 300.]\n",
            " [  0.   1.   0.   0.   0.   0.   0.   0.   0.   0.   1.   0.   0.   0.   0.   0.   0.   0.   0. 700.]\n",
            " [  0.   0.   0.   0.   0.   1.   0.   0.   0.   0.   0.   0.   0.   0.   1.   0.   0.   0.   0. 200.]\n",
            " [  0.   0.   0.   0.   1.   0.   1.   0.   0.   0.  -1.  -1.  -1.   0.  -1.   0.   1.   1.   1. 100.]\n",
            " [  0.   0.   0.   0.   0.   0.   1.   0.   0.   1.   0.   0.   0.   0.   0.  -1.   0.   0.   0. 400.]\n",
            " [  0.   0.   0.   0.   0.   0.   0.   1.   0.   0.   0.  -1.  -1.   0.  -1.   0.   0.   1.   1. 100.]\n",
            " [  0.   0.   1.   0.   0.   0.   0.   0.   0.   0.   0.   1.   0.   0.   0.   0.   0.   0.   0. 700.]\n",
            " [  0.   0.   0.   1.   0.   0.   0.   0.   0.   0.   0.   0.   1.   0.   0.   0.   0.   0.   0. 700.]\n",
            " [  0.   0.   0.   0.   0.   0.  -1.   0.   0.   0.   1.   1.   1.   1.   1.   0.  -1.  -1.  -1. 100.]\n",
            " [  0.   0.   0.   0.   0.   0.   0.   0.   1.   0.   0.   0.  -1.   0.   0.   0.   0.   0.   1. 100.]\n",
            " [  0.   0.   0.   0.   0.   0.   0.   0.   0.   0.   0.   0.   0.   0.   0.   1.   1.   1.   1.   0.]]\n",
            "[300.0, 700.0, 700.0, 700.0, 100.0, 200.0, 0, 100.0, 100.0, 400.0, 0, 0, 0, 100.0, 0, 0, 0, 0, 0]\n"
          ]
        }
      ]
    },
    {
      "cell_type": "markdown",
      "source": [
        "here last 4 columns shows that 1st phase lp has feasible solution, objective value is 0 and a1 a2 a3 a4 = 0  \n",
        "x1 x2 x3 x4 x5 x6, x8, x9, s1, s5 forms basis"
      ],
      "metadata": {
        "id": "MjSnH_WKg-HS"
      }
    },
    {
      "cell_type": "markdown",
      "source": [
        "**PHASE 2**"
      ],
      "metadata": {
        "id": "ctQrkOunsMzo"
      }
    },
    {
      "cell_type": "markdown",
      "source": [
        "delete a1 a2 a3 a4 column"
      ],
      "metadata": {
        "id": "zsBkbirPoJqR"
      }
    },
    {
      "cell_type": "code",
      "source": [
        "tableau_2.shape\n",
        "tableau_3 = np.delete(tableau_2, np.s_[15:19], axis=1)\n",
        "print(tableau_3)"
      ],
      "metadata": {
        "colab": {
          "base_uri": "https://localhost:8080/"
        },
        "id": "d5S1fqBeoNUo",
        "outputId": "10e8b91c-8c49-44c1-e263-436aa47d95b3"
      },
      "execution_count": 64,
      "outputs": [
        {
          "output_type": "stream",
          "name": "stdout",
          "text": [
            "[[  1.   0.   0.   0.   0.   0.  -1.   0.   0.   0.   0.   0.   0.   0.   0. 300.]\n",
            " [  0.   1.   0.   0.   0.   0.   0.   0.   0.   0.   1.   0.   0.   0.   0. 700.]\n",
            " [  0.   0.   0.   0.   0.   1.   0.   0.   0.   0.   0.   0.   0.   0.   1. 200.]\n",
            " [  0.   0.   0.   0.   1.   0.   1.   0.   0.   0.  -1.  -1.  -1.   0.  -1. 100.]\n",
            " [  0.   0.   0.   0.   0.   0.   1.   0.   0.   1.   0.   0.   0.   0.   0. 400.]\n",
            " [  0.   0.   0.   0.   0.   0.   0.   1.   0.   0.   0.  -1.  -1.   0.  -1. 100.]\n",
            " [  0.   0.   1.   0.   0.   0.   0.   0.   0.   0.   0.   1.   0.   0.   0. 700.]\n",
            " [  0.   0.   0.   1.   0.   0.   0.   0.   0.   0.   0.   0.   1.   0.   0. 700.]\n",
            " [  0.   0.   0.   0.   0.   0.  -1.   0.   0.   0.   1.   1.   1.   1.   1. 100.]\n",
            " [  0.   0.   0.   0.   0.   0.   0.   0.   1.   0.   0.   0.  -1.   0.   0. 100.]\n",
            " [  0.   0.   0.   0.   0.   0.   0.   0.   0.   0.   0.   0.   0.   0.   0.   0.]]\n"
          ]
        }
      ]
    },
    {
      "cell_type": "markdown",
      "source": [
        "replace final row with actual objective function"
      ],
      "metadata": {
        "id": "9MxLgENjn14g"
      }
    },
    {
      "cell_type": "code",
      "source": [
        "tableau_3[-1,:] = [10, 10, 15, 15, 15, 20, 3, 3, 3, 0, 0, 0, 0, 0, 0, 0]\n",
        "print(tableau_3)"
      ],
      "metadata": {
        "colab": {
          "base_uri": "https://localhost:8080/"
        },
        "id": "xMy80OnXnzpY",
        "outputId": "2cb702de-3a27-4f10-d3ff-f8e3da5dca75"
      },
      "execution_count": 65,
      "outputs": [
        {
          "output_type": "stream",
          "name": "stdout",
          "text": [
            "[[  1.   0.   0.   0.   0.   0.  -1.   0.   0.   0.   0.   0.   0.   0.   0. 300.]\n",
            " [  0.   1.   0.   0.   0.   0.   0.   0.   0.   0.   1.   0.   0.   0.   0. 700.]\n",
            " [  0.   0.   0.   0.   0.   1.   0.   0.   0.   0.   0.   0.   0.   0.   1. 200.]\n",
            " [  0.   0.   0.   0.   1.   0.   1.   0.   0.   0.  -1.  -1.  -1.   0.  -1. 100.]\n",
            " [  0.   0.   0.   0.   0.   0.   1.   0.   0.   1.   0.   0.   0.   0.   0. 400.]\n",
            " [  0.   0.   0.   0.   0.   0.   0.   1.   0.   0.   0.  -1.  -1.   0.  -1. 100.]\n",
            " [  0.   0.   1.   0.   0.   0.   0.   0.   0.   0.   0.   1.   0.   0.   0. 700.]\n",
            " [  0.   0.   0.   1.   0.   0.   0.   0.   0.   0.   0.   0.   1.   0.   0. 700.]\n",
            " [  0.   0.   0.   0.   0.   0.  -1.   0.   0.   0.   1.   1.   1.   1.   1. 100.]\n",
            " [  0.   0.   0.   0.   0.   0.   0.   0.   1.   0.   0.   0.  -1.   0.   0. 100.]\n",
            " [ 10.  10.  15.  15.  15.  20.   3.   3.   3.   0.   0.   0.   0.   0.   0.   0.]]\n"
          ]
        }
      ]
    },
    {
      "cell_type": "markdown",
      "source": [
        "retain the basis variables"
      ],
      "metadata": {
        "id": "WieJJbZ1qiVY"
      }
    },
    {
      "cell_type": "code",
      "source": [
        "tableau_4 = np.copy(tableau_3)\n",
        "tableau_4[-1,:]  = tableau_4[-1,:] - 10*tableau_4[0,:] - 10*tableau_4[1,:] - 15*tableau_4[6,:] - 15*tableau_4[7,:]  - 15*tableau_4[3,:] - 20*tableau_4[2,:] - 3*tableau_4[5,:] - 3*tableau_4[9,:]\n",
        "print(tableau_4)"
      ],
      "metadata": {
        "colab": {
          "base_uri": "https://localhost:8080/"
        },
        "id": "2lwMvjTDsUFg",
        "outputId": "bd040de7-cdeb-4106-fbd2-52ff679549ad"
      },
      "execution_count": 66,
      "outputs": [
        {
          "output_type": "stream",
          "name": "stdout",
          "text": [
            "[[     1.      0.      0.      0.      0.      0.     -1.      0.      0.      0.      0.      0.      0.      0.      0.    300.]\n",
            " [     0.      1.      0.      0.      0.      0.      0.      0.      0.      0.      1.      0.      0.      0.      0.    700.]\n",
            " [     0.      0.      0.      0.      0.      1.      0.      0.      0.      0.      0.      0.      0.      0.      1.    200.]\n",
            " [     0.      0.      0.      0.      1.      0.      1.      0.      0.      0.     -1.     -1.     -1.      0.     -1.    100.]\n",
            " [     0.      0.      0.      0.      0.      0.      1.      0.      0.      1.      0.      0.      0.      0.      0.    400.]\n",
            " [     0.      0.      0.      0.      0.      0.      0.      1.      0.      0.      0.     -1.     -1.      0.     -1.    100.]\n",
            " [     0.      0.      1.      0.      0.      0.      0.      0.      0.      0.      0.      1.      0.      0.      0.    700.]\n",
            " [     0.      0.      0.      1.      0.      0.      0.      0.      0.      0.      0.      0.      1.      0.      0.    700.]\n",
            " [     0.      0.      0.      0.      0.      0.     -1.      0.      0.      0.      1.      1.      1.      1.      1.    100.]\n",
            " [     0.      0.      0.      0.      0.      0.      0.      0.      1.      0.      0.      0.     -1.      0.      0.    100.]\n",
            " [     0.      0.      0.      0.      0.      0.     -2.      0.      0.      0.      5.      3.      6.      0.     -2. -37100.]]\n"
          ]
        }
      ]
    },
    {
      "cell_type": "code",
      "source": [
        "num_var_2 = 15 #for phase 2 variables are x1 x2 x3 x4 x5 x6 x7 x8 x9 s1 s2 s3 s4 s5 s6\n",
        "final_tableau, optimal_values = simplex_algorithm(tableau_4, num_var_2)\n",
        "print(final_tableau)\n",
        "print(optimal_values)"
      ],
      "metadata": {
        "colab": {
          "base_uri": "https://localhost:8080/"
        },
        "id": "Kr46nfeutywC",
        "outputId": "9f2b5d03-0af5-449b-9fd1-27237d838a16"
      },
      "execution_count": 69,
      "outputs": [
        {
          "output_type": "stream",
          "name": "stdout",
          "text": [
            "[[     1.      0.      0.      0.      1.      1.      0.      0.      0.      0.     -1.     -1.     -1.      0.      0.    600.]\n",
            " [     0.      1.      0.      0.      0.      0.      0.      0.      0.      0.      1.      0.      0.      0.      0.    700.]\n",
            " [     0.      0.      0.      0.      0.      1.      0.      0.      0.      0.      0.      0.      0.      0.      1.    200.]\n",
            " [     0.      0.      0.      0.      1.      1.      1.      0.      0.      0.     -1.     -1.     -1.      0.      0.    300.]\n",
            " [     0.      0.      0.      0.     -1.     -1.      0.      0.      0.      1.      1.      1.      1.      0.      0.    100.]\n",
            " [     0.      0.      0.      0.      0.      1.      0.      1.      0.      0.      0.     -1.     -1.      0.      0.    300.]\n",
            " [     0.      0.      1.      0.      0.      0.      0.      0.      0.      0.      0.      1.      0.      0.      0.    700.]\n",
            " [     0.      0.      0.      1.      0.      0.      0.      0.      0.      0.      0.      0.      1.      0.      0.    700.]\n",
            " [     0.      0.      0.      0.      1.      0.      0.      0.      0.      0.      0.      0.      0.      1.      0.    200.]\n",
            " [     0.      0.      0.      0.      0.      0.      0.      0.      1.      0.      0.      0.     -1.      0.      0.    100.]\n",
            " [     0.      0.      0.      0.      2.      4.      0.      0.      0.      0.      3.      1.      4.      0.      0. -36100.]]\n",
            "[600.0, 700.0, 700.0, 700.0, 0, 0, 300.0, 300.0, 100.0, 100.0, 0, 0, 0, 200.0, 200.0]\n"
          ]
        }
      ]
    },
    {
      "cell_type": "markdown",
      "source": [
        "![Screenshot 2024-10-16 012133.png](data:image/png;base64,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)"
      ],
      "metadata": {
        "id": "_VyLP_CUvHWb"
      }
    }
  ]
}
