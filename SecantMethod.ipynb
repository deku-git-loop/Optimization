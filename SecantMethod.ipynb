{
  "nbformat": 4,
  "nbformat_minor": 0,
  "metadata": {
    "colab": {
      "provenance": []
    },
    "kernelspec": {
      "name": "python3",
      "display_name": "Python 3"
    },
    "language_info": {
      "name": "python"
    }
  },
  "cells": [
    {
      "cell_type": "code",
      "execution_count": 55,
      "metadata": {
        "id": "ka_pnnsfE375"
      },
      "outputs": [],
      "source": [
        "#Gradient using central difference\n",
        "def grad(f,x, h=1e-5):\n",
        "  return (f(x+h) - f(x-h))/2*h"
      ]
    },
    {
      "cell_type": "code",
      "source": [
        "#Bracketing interval\n",
        "\n",
        "import numpy as np\n",
        "import math\n",
        "\n",
        "#give only positive step\n",
        "\n",
        "def grad_swan(f,x,step):\n",
        "\n",
        "  x0 = x\n",
        "  grad0 = grad(f,x0)\n",
        "\n",
        "  k = 0\n",
        "\n",
        "  if grad0 < 0:\n",
        "    x1 = x0 + 2**k*step  #move to right\n",
        "  elif grad0 > 0:\n",
        "    x1 = x0 - 2**k*step  #move to left\n",
        "  else:\n",
        "    return (x0,x0)\n",
        "\n",
        "  grad1 = grad(f,x1)\n",
        "\n",
        "  if grad0 < 0:\n",
        "    while np.sign(grad1) < 0:\n",
        "      x0 = x1\n",
        "      grad0 = grad1\n",
        "      x1 = x0 + 2**k*step\n",
        "      grad1 = grad(f,x1)\n",
        "\n",
        "    return (x0,x1)\n",
        "\n",
        "  if grad0 > 0:\n",
        "    while np.sign(grad1) > 0:\n",
        "      x0 = x1\n",
        "      grad0 = grad1\n",
        "      x1 = x0 - 2**k*step\n",
        "      grad1 = grad(f,x1)\n",
        "\n",
        "    return (x1,x0)"
      ],
      "metadata": {
        "id": "o1fAvpxXGFW8"
      },
      "execution_count": 56,
      "outputs": []
    },
    {
      "cell_type": "code",
      "source": [
        "#secant method\n",
        "def secant(f, x, tol, iter=100):\n",
        "\n",
        "  x0 = x[0]\n",
        "  x1 = x[1]\n",
        "\n",
        "  i = 0\n",
        "\n",
        "  while i < 100:\n",
        "    i+=1\n",
        "\n",
        "    f_x1 = grad(f,x1)\n",
        "    f_x0 = grad(f,x0)\n",
        "\n",
        "    x2 = x1 - f_x1 * (x1 - x0) / (f_x1 - f_x0)\n",
        "\n",
        "    if grad(f,x2) < tol:\n",
        "      return f'Optimal value of decison variable is {round(x2,3)} and corresponding objective value is {round(f(x2),3)}'\n",
        "\n",
        "    x0, x1 = x1, x2"
      ],
      "metadata": {
        "id": "lM06NS87YD6U"
      },
      "execution_count": 57,
      "outputs": []
    },
    {
      "cell_type": "code",
      "source": [
        "#Example 1\n",
        "def f(x):\n",
        "  return -0.1*x/((1+0.1*x)*(1+0.05*x))\n",
        "\n",
        "secant(f,grad_swan(f,2,0.5), 1e-4)"
      ],
      "metadata": {
        "colab": {
          "base_uri": "https://localhost:8080/",
          "height": 35
        },
        "id": "30vEUDoFJeZl",
        "outputId": "31ea03c9-e97a-4f54-d631-4698d4ecc1d7"
      },
      "execution_count": 53,
      "outputs": [
        {
          "output_type": "execute_result",
          "data": {
            "text/plain": [
              "'Optimal value of decison variable is 14.148 and corresponding objective value is -0.343'"
            ],
            "application/vnd.google.colaboratory.intrinsic+json": {
              "type": "string"
            }
          },
          "metadata": {},
          "execution_count": 53
        }
      ]
    },
    {
      "cell_type": "code",
      "source": [
        "#Example 2\n",
        "\n",
        "def f(x):\n",
        "  return x*(math.log(x))\n",
        "\n",
        "secant(f,grad_swan(f,0.8,0.05), 1e-4)"
      ],
      "metadata": {
        "colab": {
          "base_uri": "https://localhost:8080/",
          "height": 35
        },
        "id": "zube7mhEgtae",
        "outputId": "93bcf7f5-dc36-4092-d6a3-3afdd0276bef"
      },
      "execution_count": 58,
      "outputs": [
        {
          "output_type": "execute_result",
          "data": {
            "text/plain": [
              "'Optimal value of decison variable is 0.369 and corresponding objective value is -0.368'"
            ],
            "application/vnd.google.colaboratory.intrinsic+json": {
              "type": "string"
            }
          },
          "metadata": {},
          "execution_count": 58
        }
      ]
    },
    {
      "cell_type": "code",
      "source": [
        "#Example 3\n",
        "\n",
        "def f(x):\n",
        "  return 2*x**2 + 16/x\n",
        "\n",
        "secant(f,grad_swan(f,1,0.5), 1e-4)"
      ],
      "metadata": {
        "colab": {
          "base_uri": "https://localhost:8080/",
          "height": 35
        },
        "id": "uTAGmMnwg7Z2",
        "outputId": "c21dcd85-f74e-4c5c-ea97-7d1bb93b19c1"
      },
      "execution_count": 59,
      "outputs": [
        {
          "output_type": "execute_result",
          "data": {
            "text/plain": [
              "'Optimal value of decison variable is 1.609 and corresponding objective value is 15.122'"
            ],
            "application/vnd.google.colaboratory.intrinsic+json": {
              "type": "string"
            }
          },
          "metadata": {},
          "execution_count": 59
        }
      ]
    },
    {
      "cell_type": "code",
      "source": [
        "#Example 4\n",
        "\n",
        "def f(x):\n",
        "  return -4*x*(math.sin(x))\n",
        "\n",
        "secant(f,grad_swan(f,1,0.5), 1e-4)"
      ],
      "metadata": {
        "colab": {
          "base_uri": "https://localhost:8080/",
          "height": 35
        },
        "id": "p7_WhIyZhGZ2",
        "outputId": "fef1e339-c464-44c7-bbfb-30988e6b7b78"
      },
      "execution_count": 60,
      "outputs": [
        {
          "output_type": "execute_result",
          "data": {
            "text/plain": [
              "'Optimal value of decison variable is 2.026 and corresponding objective value is -7.279'"
            ],
            "application/vnd.google.colaboratory.intrinsic+json": {
              "type": "string"
            }
          },
          "metadata": {},
          "execution_count": 60
        }
      ]
    }
  ]
}
