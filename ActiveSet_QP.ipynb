{
  "nbformat": 4,
  "nbformat_minor": 0,
  "metadata": {
    "colab": {
      "provenance": []
    },
    "kernelspec": {
      "name": "python3",
      "display_name": "Python 3"
    },
    "language_info": {
      "name": "python"
    }
  },
  "cells": [
    {
      "cell_type": "markdown",
      "source": [
        "**1st Part**"
      ],
      "metadata": {
        "id": "PFbhmXEjYiQs"
      }
    },
    {
      "cell_type": "code",
      "execution_count": 7,
      "metadata": {
        "id": "JaOcL3l5shpW"
      },
      "outputs": [],
      "source": [
        "import numpy as np\n",
        "np.set_printoptions(linewidth=300, suppress=True)\n",
        "\n",
        "#simplex algorithm to solve LP\n",
        "def simplex_algorithm(tableau, num_vars):\n",
        "\n",
        "    tableau = np.array(tableau, dtype=float)  #converting tableau to numpy array\n",
        "\n",
        "    num_rows, num_cols = tableau.shape\n",
        "\n",
        "    while True:\n",
        "        # Step 1: Check if optimality is reached (no negative values in the objective function row)\n",
        "        # The objective function row is the last row of the tableau\n",
        "        if all(tableau[-1, :-1] >= 0):\n",
        "            break  # If all values in the last row are >= 0, we are done\n",
        "\n",
        "        # Step 2: Find entering variable (most negative value in the last row)\n",
        "        pivot_col = np.argmin(tableau[-1, :-1])  # Column with the most negative coefficient\n",
        "\n",
        "        # Step 3: Find the leaving variable (minimum positive ratio of RHS to pivot column)\n",
        "        ratios = []\n",
        "        for i in range(num_rows - 1):\n",
        "            if tableau[i, pivot_col] > 0:\n",
        "                ratios.append(tableau[i, -1] / tableau[i, pivot_col])\n",
        "            else:\n",
        "                ratios.append(float('inf'))  # Ignore negative or zero entries\n",
        "\n",
        "        pivot_row = np.argmin(ratios)  # Row with the minimum positive ratio\n",
        "\n",
        "        # Step 4: Perform the pivot (normalize pivot row and update other rows)\n",
        "        pivot_value = tableau[pivot_row, pivot_col]\n",
        "        tableau[pivot_row, :] /= pivot_value  # Normalize pivot row\n",
        "\n",
        "        for i in range(num_rows):\n",
        "            if i != pivot_row:\n",
        "                row_factor = tableau[i, pivot_col]\n",
        "                tableau[i, :] -= row_factor * tableau[pivot_row, :]\n",
        "\n",
        "        # Continue looping until we reach optimality\n",
        "\n",
        "    # Step 5: Extract the optimal solution\n",
        "    optimal_values = [0] * num_vars\n",
        "    for i in range(num_vars):\n",
        "        # If a column corresponds to a basic variable, it will have exactly one 1 and the rest 0s\n",
        "        column = tableau[:, i]\n",
        "        if np.count_nonzero(column[:-1]) == 1 and np.sum(column[:-1]) == 1:\n",
        "            row_index = np.where(column == 1)[0][0]\n",
        "            optimal_values[i] = tableau[row_index, -1]\n",
        "\n",
        "    return optimal_values"
      ]
    },
    {
      "cell_type": "markdown",
      "source": [
        "Defining artifical variables and formulating intial LP from initial guess (1, 2.5) (as done in notes)\n",
        "\n",
        "min z1 + z2 + z3 + z4 + z5 + z6  \n",
        "x1 + x2 - z1 = 3  \n",
        "x1 - 2x2 + z2 >= -2   \n",
        "-x1 - 2x2 + z3 >= -6   \n",
        "-x1 + 2x2 + z4 >= -2   \n",
        "x1 + z5  >=  0   \n",
        "x2 + z6 >=  0  \n",
        "\n",
        "now convert to standard LP and then solve using LP phase method"
      ],
      "metadata": {
        "id": "mwguoNX8NXIs"
      }
    },
    {
      "cell_type": "markdown",
      "source": [
        "Phase 1 LP:  \n",
        "min a1  \n",
        "x1 + x2 - z1 + a1 = 3  \n",
        "-x1 + 2x2 - z2 + s1= 2  \n",
        "x1 + 2x2 - z3 + s2 = 6  \n",
        "x1 -2x2 - z4 + s3 = 2  \n",
        "-x1 - z5 + s4 = 0  \n",
        "-x2 - z6 + s5 = 0  \n",
        "\n",
        "(similar to what was done in HW7)"
      ],
      "metadata": {
        "id": "cvsZbN3RyGNJ"
      }
    },
    {
      "cell_type": "code",
      "source": [
        "tableau = [\n",
        "  # [x1, x2, z1, z2, z3, z4, z5, z6, s1, s2, s3, s4, s5, a1 b/c]\n",
        "    [1,  1, -1,  0,  0,  0, 0, 0, 0, 0, 0,  0,  0, 1, 3],\n",
        "    [-1, 2,  0, -1,  0,  0, 0, 0, 1, 0, 0,  0,  0, 0, 2],\n",
        "    [1,  2,  0,  0, -1,  0, 0, 0, 0, 1, 0,  0,  0, 0, 6],\n",
        "    [1, -2,  0,  0,  0, -1, 0, 0, 0, 0, 1,  0,  0, 0, 2],\n",
        "    [-1,  0,  0,  0,  0,  0, -1, 0, 0, 0, 0, 1,  0, 0, 0],\n",
        "    [0,  -1,  0,  0,  0,  0, 0, -1, 0, 0, 0,  0, 1, 0, 0],\n",
        "    [0,  0,  0,  0, 0,  0, 0, 0, 0, 0, 0,  0,  0, 1, 0],\n",
        "]\n",
        "\n",
        "tableau = np.array(tableau)\n",
        "\n",
        "num_vars = 14\n",
        "\n",
        "#need to make a1 basic\n",
        "tableau[-1,:] = tableau[-1,:] - tableau[0,:]\n",
        "\n",
        "print(tableau)\n"
      ],
      "metadata": {
        "id": "81U5ORh-tP3V",
        "colab": {
          "base_uri": "https://localhost:8080/"
        },
        "outputId": "82ba2610-bdf9-4148-e67a-41a22ba715fc"
      },
      "execution_count": 8,
      "outputs": [
        {
          "output_type": "stream",
          "name": "stdout",
          "text": [
            "[[ 1  1 -1  0  0  0  0  0  0  0  0  0  0  1  3]\n",
            " [-1  2  0 -1  0  0  0  0  1  0  0  0  0  0  2]\n",
            " [ 1  2  0  0 -1  0  0  0  0  1  0  0  0  0  6]\n",
            " [ 1 -2  0  0  0 -1  0  0  0  0  1  0  0  0  2]\n",
            " [-1  0  0  0  0  0 -1  0  0  0  0  1  0  0  0]\n",
            " [ 0 -1  0  0  0  0  0 -1  0  0  0  0  1  0  0]\n",
            " [-1 -1  1  0  0  0  0  0  0  0  0  0  0  0 -3]]\n"
          ]
        }
      ]
    },
    {
      "cell_type": "code",
      "source": [
        "simplex_algorithm(tableau, num_vars)"
      ],
      "metadata": {
        "colab": {
          "base_uri": "https://localhost:8080/"
        },
        "id": "v-JyjREs253g",
        "outputId": "69729860-25a8-4297-a758-49204b3628a1"
      },
      "execution_count": 9,
      "outputs": [
        {
          "output_type": "execute_result",
          "data": {
            "text/plain": [
              "[2.6666666666666665,\n",
              " 0.3333333333333333,\n",
              " 0,\n",
              " 0,\n",
              " 0,\n",
              " 0,\n",
              " 0,\n",
              " 0,\n",
              " 4.0,\n",
              " 2.666666666666667,\n",
              " 0,\n",
              " 2.6666666666666665,\n",
              " 0.3333333333333333,\n",
              " 0]"
            ]
          },
          "metadata": {},
          "execution_count": 9
        }
      ]
    },
    {
      "cell_type": "markdown",
      "source": [
        "Here we can see z1, z2...,z6 = 0 , a1 = 0 and intial guess for x1 = 8/3 and x2 = 1/3. So the correct feasible initial guess is (8/3, 1/3). It can be observed that this satisfies all the constraints"
      ],
      "metadata": {
        "id": "hPkEPEYiRikz"
      }
    },
    {
      "cell_type": "code",
      "source": [
        "#ECQP\n",
        "def ECQP(G, d, A_k, b_k, x):\n",
        "  i = A_k.shape[0]\n",
        "  Z = np.zeros((i,i))\n",
        "  L1 = np.hstack((G, -A_k.T))\n",
        "  L2 = np.vstack((L1, np.hstack((A_k, Z))))\n",
        "\n",
        "  R1 = -(np.dot(G, x) + d)\n",
        "  R2 = b_k - np.dot(A_k, x)\n",
        "  R3 = np.vstack((R1, R2))\n",
        "\n",
        "  result = np.linalg.pinv(L2) @ R3\n",
        "  n = G.shape[0]\n",
        "\n",
        "  p = result[:n]\n",
        "  p = np.round(p, 7)\n",
        "  lamda = result[n:]\n",
        "\n",
        "  return p , lamda\n",
        "\n",
        "#alpha\n",
        "def min_alpha(A, b, p, x):\n",
        "  n = len(b)\n",
        "  alpha_vec = np.zeros(n)\n",
        "  for i in range(n):\n",
        "    if np.dot(A[i], p) < 0:\n",
        "      alpha_vec[i] = (b[i] - np.dot(A[i], x))/np.dot(A[i], p)\n",
        "    else:\n",
        "      alpha_vec[i] = np.inf\n",
        "\n",
        "  alpha_1 = np.min(alpha_vec)\n",
        "  alpha = min(1, alpha_1)\n",
        "\n",
        "  return alpha_vec, alpha"
      ],
      "metadata": {
        "id": "cvvvdGnVIqpV"
      },
      "execution_count": 10,
      "outputs": []
    },
    {
      "cell_type": "code",
      "source": [
        "A_eq = np.array([1, 1])\n",
        "b_eq = np.array([3])\n",
        "\n",
        "A_iq = np.array([[1, -2],\n",
        "                 [-1, -2],\n",
        "                 [-1, 2],\n",
        "                 [1, 0],\n",
        "                 [0, 1]])\n",
        "\n",
        "b_iq = np.array([[-2],\n",
        "                 [-6],\n",
        "                 [-2],\n",
        "                 [0],\n",
        "                 [0]])\n",
        "\n",
        "x1 = np.array([[8/3],\n",
        "             [1/3]])\n",
        "\n",
        "G = np.array([[2, 0],\n",
        "              [0, 2]])\n",
        "\n",
        "d = np.array([[-2],\n",
        "              [-5]])\n",
        "\n",
        "# Iteration 1, equality and 1st inequality in working set\n",
        "print('ITERATION 1')\n",
        "print()\n",
        "A_k1 = np.vstack((A_eq, A_iq[0]))\n",
        "b_k1 = np.vstack((b_eq, b_iq[0]))\n",
        "\n",
        "p1, lamda1 = ECQP(G, d, A_k1, b_k1, x1)\n",
        "\n",
        "print(f'p1:\\n {p1}')\n",
        "print()\n",
        "print(f'lamda1:\\n {lamda1}')\n",
        "print()\n",
        "print(f'p1 norm:\\n{np.linalg.norm(p1)}')\n",
        "print()\n",
        "##norm of p1 is not zero, need to find alpha\n",
        "A1 = np.vstack((A_iq[1], A_iq[2], A_iq[3], A_iq[4]))\n",
        "b1 = np.vstack((b_iq[1], b_iq[2], b_iq[3], b_iq[4]))\n",
        "\n",
        "alpha_vec1, alpha1 = min_alpha(A1, b1, p1, x1)\n",
        "print(f'alpha_max: \\n{alpha1}')\n",
        "print()\n",
        "print(f'alpha_vec1: \\n{alpha_vec1}')\n",
        "print()\n",
        "\n",
        "x2 = x1 + alpha1*p1\n",
        "\n",
        "#since alpha_max = 1, no constraint needs to be added\n",
        "# Iteration 2, equality and 1st and 3rd inequality in working set\n",
        "print('ITERATION 2')\n",
        "print()\n",
        "A_k2 = np.vstack((A_eq, A_iq[0]))\n",
        "b_k2 = np.vstack((b_eq, b_iq[0]))\n",
        "p2, lamda2 = ECQP(G, d, A_k2, b_k2, x2)\n",
        "print(f'p2:\\n {p2}')\n",
        "print()\n",
        "print(f'lamda2:\\n {lamda2}')\n",
        "print()\n",
        "print(f'p2 norm:\\n{np.linalg.norm(p2)}')\n",
        "print()\n",
        "\n",
        "#norm p2 = 0 and lamda > 0 for inequality, optimal solution obtained\n",
        "A2 = np.vstack((A_iq[1], A_iq[2], A_iq[3], A_iq[4]))\n",
        "b2 = np.vstack((b_iq[1], b_iq[2], b_iq[3], b_iq[4]))\n",
        "alpha_vec2, alpha2 = min_alpha(A2, b2, p2, x2)\n",
        "print(f'alpha_max: \\n{alpha2}')\n",
        "print()\n",
        "print(f'alpha_vec1: \\n{alpha_vec2}')\n",
        "print()\n",
        "\n",
        "x3 = x2 + alpha2*p2\n",
        "\n",
        "print(f'Final answer: \\n {x3}')"
      ],
      "metadata": {
        "colab": {
          "base_uri": "https://localhost:8080/"
        },
        "id": "Qop5V8JE9-WI",
        "outputId": "deda58e9-b073-4da7-c8ab-5a8d567de778"
      },
      "execution_count": 11,
      "outputs": [
        {
          "output_type": "stream",
          "name": "stdout",
          "text": [
            "ITERATION 1\n",
            "\n",
            "p1:\n",
            " [[-1.3333333]\n",
            " [ 1.3333333]]\n",
            "\n",
            "lamda1:\n",
            " [[-0.11111111]\n",
            " [ 0.77777778]]\n",
            "\n",
            "p1 norm:\n",
            "1.8856180360236747\n",
            "\n",
            "alpha_max: \n",
            "1\n",
            "\n",
            "alpha_vec1: \n",
            "[2.00000005        inf 2.00000005        inf]\n",
            "\n",
            "ITERATION 2\n",
            "\n",
            "p2:\n",
            " [[-0.]\n",
            " [ 0.]]\n",
            "\n",
            "lamda2:\n",
            " [[-0.11111111]\n",
            " [ 0.77777778]]\n",
            "\n",
            "p2 norm:\n",
            "0.0\n",
            "\n",
            "alpha_max: \n",
            "1\n",
            "\n",
            "alpha_vec1: \n",
            "[inf inf inf inf]\n",
            "\n",
            "Final answer: \n",
            " [[1.33333337]\n",
            " [1.66666663]]\n"
          ]
        },
        {
          "output_type": "stream",
          "name": "stderr",
          "text": [
            "<ipython-input-10-89a72bdb1de4>:27: DeprecationWarning: Conversion of an array with ndim > 0 to a scalar is deprecated, and will error in future. Ensure you extract a single element from your array before performing this operation. (Deprecated NumPy 1.25.)\n",
            "  alpha_vec[i] = (b[i] - np.dot(A[i], x))/np.dot(A[i], p)\n"
          ]
        }
      ]
    },
    {
      "cell_type": "markdown",
      "source": [
        "**Final answer: (1.33, 1.66)**"
      ],
      "metadata": {
        "id": "CC7gUgcpj4Lk"
      }
    },
    {
      "cell_type": "markdown",
      "source": [
        "**2nd Part**"
      ],
      "metadata": {
        "id": "OgPZZY0hkBXm"
      }
    },
    {
      "cell_type": "markdown",
      "source": [
        "Big M reformulation  \n",
        "constraints:  \n",
        "-x1 - x2 + t >= -3  \n",
        "x1 + x2 + t >= 3  \n",
        "x1 - 2x2 + t >= -2  \n",
        "-x1 - 2x2 + t >= -6  \n",
        "-x1 + 2x2 + t >= -2  \n",
        "x1 + t >= 0  \n",
        "x2 + t >= 0  \n",
        "\n",
        "t = 2 satisfies all for (x1, x2) = (1, 2.5)"
      ],
      "metadata": {
        "id": "oLaG7lclnwQC"
      }
    },
    {
      "cell_type": "code",
      "source": [
        "A_iq = np.array([[-1, -1 , 1],\n",
        "                  [1, 1 , 1],\n",
        "                  [1, -2 , 1],\n",
        "                  [-1, -2 , 1],\n",
        "                  [-1, 2 , 1],\n",
        "                  [1, 0, 1],\n",
        "                  [0, 1 , 1]])\n",
        "\n",
        "b_iq = np.array([[-3],\n",
        "                 [3],\n",
        "                 [-2],\n",
        "                 [-6],\n",
        "                 [-2],\n",
        "                 [0],\n",
        "                 [0]])\n",
        "\n",
        "x1 = np.array([[1],\n",
        "               [2.5],\n",
        "               [2]])\n",
        "\n",
        "G = np.array([[2, 0, 0],\n",
        "              [0, 2, 0],\n",
        "              [0, 0, 0]])\n",
        "\n",
        "d = np.array([[-2],\n",
        "              [-5],\n",
        "              [100]])\n",
        "\n",
        "# Iteration 1, 1st inequality in working set\n",
        "print('ITERATION 1')\n",
        "print()\n",
        "A_k1 = np.array([A_iq[0]])\n",
        "b_k1 = np.array([b_iq[0]])\n",
        "\n",
        "p1, lamda1 = ECQP(G, d, A_k1, b_k1, x1)\n",
        "\n",
        "print(f'p1:\\n {p1}')\n",
        "print()\n",
        "print(f'lamda1:\\n {lamda1}')\n",
        "print()\n",
        "print(f'p1 norm:\\n{np.linalg.norm(p1)}')\n",
        "print()\n",
        "\n",
        "##norm of p1 is not zero, need to find alpha\n",
        "A1 = np.vstack((A_iq[1], A_iq[2], A_iq[3], A_iq[4], A_iq[5], A_iq[6]))\n",
        "b1 = np.vstack((b_iq[1], b_iq[2], b_iq[3], b_iq[4], b_iq[5], b_iq[6]))\n",
        "\n",
        "alpha_vec1, alpha1 = min_alpha(A1, b1, p1, x1)\n",
        "print(f'alpha_max: \\n{alpha1}')\n",
        "print()\n",
        "print(f'alpha_vec1: \\n{alpha_vec1}')\n",
        "print()\n",
        "\n",
        "x2 = x1 + alpha1*p1\n",
        "\n",
        "# Iteration 2, 1st inequality and 3rd inequality in working set\n",
        "print('ITERATION 2')\n",
        "print()\n",
        "A_k2 = np.vstack((A_iq[0], A_iq[2]))\n",
        "b_k2 = np.vstack((b_iq[0], b_iq[2]))\n",
        "\n",
        "p2, lamda2 = ECQP(G, d, A_k2, b_k2, x2)\n",
        "\n",
        "print(f'p2:\\n {p2}')\n",
        "print()\n",
        "print(f'lamda2:\\n {lamda2}')\n",
        "print()\n",
        "print(f'p2 norm:\\n{np.linalg.norm(p2)}')\n",
        "print()\n",
        "\n",
        "##norm of p2 is not zero, need to find alpha\n",
        "A2 = np.vstack((A_iq[1], A_iq[3], A_iq[4], A_iq[5], A_iq[6]))\n",
        "b2 = np.vstack((b_iq[1], b_iq[3], b_iq[4], b_iq[5], b_iq[6]))\n",
        "\n",
        "alpha_vec2, alpha2 = min_alpha(A2, b2, p2, x2)\n",
        "print(f'alpha_max: \\n{alpha2}')\n",
        "print()\n",
        "print(f'alpha_vec1: \\n{alpha_vec2}')\n",
        "print()\n",
        "\n",
        "x3 = x2 + alpha2*p2\n",
        "\n",
        "# Iteration 3, 1st inequality, 2nd and 3rd inequality in working set\n",
        "print('ITERATION 3')\n",
        "print()\n",
        "A_k3 = np.vstack((A_iq[0], A_iq[1], A_iq[2]))\n",
        "b_k3 = np.vstack((b_iq[0], b_iq[1], b_iq[2]))\n",
        "\n",
        "p3, lamda3 = ECQP(G, d, A_k3, b_k3, x3)\n",
        "\n",
        "print(f'p3:\\n {p3}')\n",
        "print()\n",
        "print(f'lamda3:\\n {lamda3}')\n",
        "print()\n",
        "print(f'p3 norm:\\n{np.linalg.norm(p3)}')\n",
        "print()\n",
        "\n",
        "##norm of p3 is not zero, need to find alpha\n",
        "A3 = np.vstack(( A_iq[3], A_iq[4], A_iq[5], A_iq[6]))\n",
        "b3 = np.vstack(( b_iq[3], b_iq[4], b_iq[5], b_iq[6]))\n",
        "\n",
        "alpha_vec3, alpha3 = min_alpha(A3, b3, p3, x3)\n",
        "print(f'alpha_max: \\n{alpha3}')\n",
        "print()\n",
        "print(f'alpha_vec1: \\n{alpha_vec3}')\n",
        "print()\n",
        "\n",
        "x4 = x3 + alpha3*p3\n",
        "\n",
        "# Iteration 4, no change in working set\n",
        "print('ITERATION 4')\n",
        "print()\n",
        "A_k4 = np.vstack((A_iq[0], A_iq[1], A_iq[2]))\n",
        "b_k4 = np.vstack((b_iq[0], b_iq[1], b_iq[2]))\n",
        "\n",
        "p4, lamda4 = ECQP(G, d, A_k4, b_k4, x4)\n",
        "\n",
        "print(f'p4:\\n {p4}')\n",
        "print()\n",
        "print(f'lamda4:\\n {lamda4}')\n",
        "print()\n",
        "print(f'p4 norm:\\n{np.linalg.norm(p4)}')\n",
        "print()\n",
        "\n",
        "print(f'Final answer:\\n {x4}')"
      ],
      "metadata": {
        "id": "Z0KGltYdzknj",
        "colab": {
          "base_uri": "https://localhost:8080/"
        },
        "outputId": "f8ab2821-21ce-47a7-a5ba-5c10ac65c703"
      },
      "execution_count": 29,
      "outputs": [
        {
          "output_type": "stream",
          "name": "stdout",
          "text": [
            "ITERATION 1\n",
            "\n",
            "p1:\n",
            " [[ -50. ]\n",
            " [ -50. ]\n",
            " [-101.5]]\n",
            "\n",
            "lamda1:\n",
            " [[100.]]\n",
            "\n",
            "p1 norm:\n",
            "123.70226352011511\n",
            "\n",
            "alpha_max: \n",
            "-0.0\n",
            "\n",
            "alpha_vec1: \n",
            "[ 0.01240695 -0.                 inf  0.05280528  0.01980198  0.02970297]\n",
            "\n",
            "ITERATION 2\n",
            "\n",
            "p2:\n",
            " [[-29.4]\n",
            " [-60.3]\n",
            " [-91.2]]\n",
            "\n",
            "lamda2:\n",
            " [[79.4]\n",
            " [20.6]]\n",
            "\n",
            "p2 norm:\n",
            "113.21612076025215\n",
            "\n",
            "alpha_max: \n",
            "0.013819789939192926\n",
            "\n",
            "alpha_vec1: \n",
            "[0.01381979        inf 0.04385965 0.02487562 0.02970297]\n",
            "\n",
            "ITERATION 3\n",
            "\n",
            "p3:\n",
            " [[ 0.7396352]\n",
            " [ 0.       ]\n",
            " [-0.7396352]]\n",
            "\n",
            "lamda3:\n",
            " [[49.66666667]\n",
            " [49.55555556]\n",
            " [ 0.77777778]]\n",
            "\n",
            "p3 norm:\n",
            "1.0460021310485368\n",
            "\n",
            "alpha_max: \n",
            "1\n",
            "\n",
            "alpha_vec1: \n",
            "[1.90134518 3.70403566        inf 3.25336304]\n",
            "\n",
            "ITERATION 4\n",
            "\n",
            "p4:\n",
            " [[-0.]\n",
            " [ 0.]\n",
            " [ 0.]]\n",
            "\n",
            "lamda4:\n",
            " [[49.66666667]\n",
            " [49.55555556]\n",
            " [ 0.77777778]]\n",
            "\n",
            "p4 norm:\n",
            "0.0\n",
            "\n",
            "Final answer:\n",
            " [[ 1.33333338]\n",
            " [ 1.66666667]\n",
            " [-0.00000004]]\n"
          ]
        },
        {
          "output_type": "stream",
          "name": "stderr",
          "text": [
            "<ipython-input-10-89a72bdb1de4>:27: DeprecationWarning: Conversion of an array with ndim > 0 to a scalar is deprecated, and will error in future. Ensure you extract a single element from your array before performing this operation. (Deprecated NumPy 1.25.)\n",
            "  alpha_vec[i] = (b[i] - np.dot(A[i], x))/np.dot(A[i], p)\n"
          ]
        }
      ]
    },
    {
      "cell_type": "markdown",
      "source": [
        "**Final answer: (1.33, 1.66)**"
      ],
      "metadata": {
        "id": "71lKlYkNve74"
      }
    }
  ]
}
