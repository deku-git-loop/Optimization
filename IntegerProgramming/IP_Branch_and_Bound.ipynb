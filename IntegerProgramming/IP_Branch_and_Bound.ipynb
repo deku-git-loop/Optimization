{
  "nbformat": 4,
  "nbformat_minor": 0,
  "metadata": {
    "colab": {
      "provenance": []
    },
    "kernelspec": {
      "name": "python3",
      "display_name": "Python 3"
    },
    "language_info": {
      "name": "python"
    }
  },
  "cells": [
    {
      "cell_type": "markdown",
      "source": [
        "**Group 11**"
      ],
      "metadata": {
        "id": "Bsc18PWe1vcI"
      }
    },
    {
      "cell_type": "code",
      "source": [
        "from scipy.optimize import linprog\n",
        "import numpy as np"
      ],
      "metadata": {
        "id": "05V2aCu1y4hG"
      },
      "execution_count": 1,
      "outputs": []
    },
    {
      "cell_type": "code",
      "source": [
        "def branch_and_bound(c, A_ub=None, b_ub=None, A_eq=None, b_eq=None, bounds=None):\n",
        "\n",
        "    def solve_relaxed(c, A_ub, b_ub, A_eq, b_eq, bounds):\n",
        "        result = linprog(c, A_ub=A_ub, b_ub=b_ub, A_eq=A_eq, b_eq=b_eq, bounds=bounds, method='highs')\n",
        "        if result.success:\n",
        "            return result.x, result.fun\n",
        "        else:\n",
        "            return None, None\n",
        "\n",
        "    def is_integer(x):\n",
        "        return np.allclose(x, np.round(x))\n",
        "\n",
        "    best_solution = None\n",
        "    best_obj_value = float('inf')\n",
        "    stack = [(bounds)]\n",
        "\n",
        "    while stack:\n",
        "        current_bounds = stack.pop()\n",
        "\n",
        "        solution, obj_value = solve_relaxed(c, A_ub, b_ub, A_eq, b_eq, current_bounds)\n",
        "        print(solution)\n",
        "\n",
        "        if solution is None:\n",
        "            continue\n",
        "\n",
        "        if is_integer(solution):\n",
        "            if obj_value < best_obj_value:\n",
        "                best_solution = solution\n",
        "                best_obj_value = obj_value\n",
        "                break\n",
        "\n",
        "        else:\n",
        "            for i in range(len(solution)):\n",
        "                if not np.isclose(solution[i], np.round(solution[i])):\n",
        "                    lower_bounds = current_bounds.copy()\n",
        "                    upper_bounds = current_bounds.copy()\n",
        "\n",
        "                    lower_bounds[i] = (current_bounds[i][0], np.floor(solution[i]))\n",
        "                    upper_bounds[i] = (np.ceil(solution[i]), current_bounds[i][1])\n",
        "\n",
        "                    stack.append(lower_bounds)\n",
        "                    stack.append(upper_bounds)\n",
        "                    break\n",
        "\n",
        "    return np.round(best_solution), best_obj_value"
      ],
      "metadata": {
        "id": "s19FU4DIMIjU"
      },
      "execution_count": 2,
      "outputs": []
    },
    {
      "cell_type": "code",
      "source": [
        "# Example\n",
        "c = [4, 3, 5]  # Coefficients for the objective function (minimze) z = c.T*x\n",
        "A = [[-2,-3,-1],[-1,-2,-4],[-3,-1,-2],[1,0,1],[0,1,2]]  # Coefficient matrix for inequalities Ax <= b\n",
        "b = [-10,-15,-12,7,6]  # Right-hand side of inequalities (Ax <= b)\n",
        "A_eq = [[0,0,0]] # Coefficient matrix of inequalities (Ax = b)\n",
        "b_eq = [0] # Right-hand side of inequalities (Ax = b)\n",
        "bounds = [(0, None), (0, None), (0, None)]  # Variable bounds (x, y >= 0)\n",
        "\n",
        "# Solve the integer programming problem using Branch and Bound\n",
        "solution, objective_value = branch_and_bound(c, A, b, A_eq, b_eq,bounds)\n",
        "print(f\"Optimal integer solution: {solution}\")\n",
        "print(f\"Objective value: {objective_value}\")"
      ],
      "metadata": {
        "colab": {
          "base_uri": "https://localhost:8080/"
        },
        "id": "IAnxWWhIy7aV",
        "outputId": "94504722-6acc-46d3-b915-910faa711dfc"
      },
      "execution_count": 3,
      "outputs": [
        {
          "output_type": "stream",
          "name": "stdout",
          "text": [
            "[3.  0.4 2.8]\n",
            "[3.  1.  2.5]\n",
            "None\n",
            "[3. 2. 2.]\n",
            "Optimal integer solution: [3. 2. 2.]\n",
            "Objective value: 28.0\n"
          ]
        }
      ]
    }
  ]
}