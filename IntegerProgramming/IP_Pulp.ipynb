{
  "nbformat": 4,
  "nbformat_minor": 0,
  "metadata": {
    "colab": {
      "provenance": []
    },
    "kernelspec": {
      "name": "python3",
      "display_name": "Python 3"
    },
    "language_info": {
      "name": "python"
    }
  },
  "cells": [
    {
      "cell_type": "markdown",
      "source": [
        "**Group 11**"
      ],
      "metadata": {
        "id": "EtkxCKel11vf"
      }
    },
    {
      "cell_type": "code",
      "source": [
        "##checking using inbuilt functions"
      ],
      "metadata": {
        "id": "SCS9jof8yvdG"
      },
      "execution_count": 7,
      "outputs": []
    },
    {
      "cell_type": "code",
      "execution_count": 8,
      "metadata": {
        "colab": {
          "base_uri": "https://localhost:8080/"
        },
        "id": "80t4_uc-bmG1",
        "outputId": "20dd18a6-a9ce-4060-8e5b-b42d3b8e59ee"
      },
      "outputs": [
        {
          "output_type": "stream",
          "name": "stdout",
          "text": [
            "Requirement already satisfied: pulp in /usr/local/lib/python3.10/dist-packages (2.9.0)\n"
          ]
        }
      ],
      "source": [
        "!pip install pulp\n",
        "import pulp"
      ]
    },
    {
      "cell_type": "code",
      "source": [
        "prob = pulp.LpProblem(\"Minimize Linear Function\", pulp.LpMinimize)"
      ],
      "metadata": {
        "id": "iWtPtHU5bxLC"
      },
      "execution_count": 9,
      "outputs": []
    },
    {
      "cell_type": "code",
      "source": [
        "x1 = pulp.LpVariable('x1', lowBound=0, cat='Integer')\n",
        "x2 = pulp.LpVariable('x2', lowBound=0, cat='Integer')\n",
        "x3 = pulp.LpVariable('x3', lowBound=0, cat='Integer')"
      ],
      "metadata": {
        "id": "aCv0HOUtdJOp"
      },
      "execution_count": 10,
      "outputs": []
    },
    {
      "cell_type": "code",
      "source": [
        "prob += 4 * x1 + 3 * x2 + 5 * x3\n",
        "prob += -2*x1 - 3*x2 - x3 <= -10\n",
        "prob += -x1 - 2*x2 - 4*x3 <= -15\n",
        "prob += -3*x1 - x2 - 2*x3 <= -12\n",
        "prob += x1 + x3 <= 7\n",
        "prob += x2 + 2*x3 <= 6\n",
        "\n",
        "#prob += 2*x1 + 3*x2 == 5"
      ],
      "metadata": {
        "id": "PDPtBQKCdONQ"
      },
      "execution_count": 11,
      "outputs": []
    },
    {
      "cell_type": "code",
      "source": [
        "prob.solve()\n",
        "\n",
        "# Print the results\n",
        "print(\"Status:\", pulp.LpStatus[prob.status])\n",
        "print(\"Optimized x1:\", pulp.value(x1))\n",
        "print(\"Optimized x2:\", pulp.value(x2))\n",
        "print(\"Optimized x3:\", pulp.value(x3))\n",
        "print(\"Objective function value:\", pulp.value(prob.objective))"
      ],
      "metadata": {
        "colab": {
          "base_uri": "https://localhost:8080/"
        },
        "id": "_eqarhcydnWo",
        "outputId": "e7f02bd6-e0b7-45bf-e3de-500a30b836b5"
      },
      "execution_count": 12,
      "outputs": [
        {
          "output_type": "stream",
          "name": "stdout",
          "text": [
            "Status: Optimal\n",
            "Optimized x1: 3.0\n",
            "Optimized x2: 2.0\n",
            "Optimized x3: 2.0\n",
            "Objective function value: 28.0\n"
          ]
        }
      ]
    }
  ]
}