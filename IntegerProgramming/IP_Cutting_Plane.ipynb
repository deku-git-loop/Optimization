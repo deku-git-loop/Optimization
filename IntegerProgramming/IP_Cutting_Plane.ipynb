{
  "cells": [
    {
      "cell_type": "markdown",
      "source": [
        "**Group 11**"
      ],
      "metadata": {
        "id": "kQU-21JH1zkg"
      }
    },
    {
      "cell_type": "markdown",
      "metadata": {
        "id": "r3LyUWz49h0Y"
      },
      "source": [
        "**Simplex Method**"
      ]
    },
    {
      "cell_type": "code",
      "execution_count": 1,
      "metadata": {
        "id": "624kmXuN0Gp1"
      },
      "outputs": [],
      "source": [
        "import numpy as np\n",
        "\n",
        "def simplex(c, A, b):\n",
        "\n",
        "    num_vars = len(c)\n",
        "    num_constraints = len(b)\n",
        "\n",
        "    # Create the initial tableau\n",
        "    tableau = np.hstack((A, np.eye(num_constraints), b.reshape(-1, 1)))\n",
        "    tableau = np.vstack((tableau, np.hstack((-c, np.zeros(num_constraints + 1)))))\n",
        "\n",
        "    # Simplex iterations\n",
        "    while True:\n",
        "        # Identify entering variable (most negative coefficient in the objective row)\n",
        "        entering = np.argmin(tableau[-1, :-1])\n",
        "        if tableau[-1, entering] >= 0:\n",
        "            # Optimal solution found\n",
        "            break\n",
        "\n",
        "        # Identify leaving variable (minimum ratio test)\n",
        "        ratios = tableau[:-1, -1] / tableau[:-1, entering]\n",
        "        ratios[ratios < 0] = np.inf  # Ignore negative ratios\n",
        "        leaving = np.argmin(ratios)\n",
        "\n",
        "        # Pivot operation\n",
        "        pivot = tableau[leaving, entering]\n",
        "        tableau[leaving] /= pivot  # Normalize pivot row\n",
        "\n",
        "        for i in range(len(tableau)):\n",
        "            if i != leaving:\n",
        "                tableau[i] -= tableau[i, entering] * tableau[leaving]\n",
        "\n",
        "    # Extract the solution\n",
        "    optimal_values = np.zeros(num_vars)\n",
        "    for i in range(num_vars):\n",
        "        col = tableau[:-1, i]\n",
        "        if np.count_nonzero(col) == 1 and np.any(col == 1):\n",
        "            row = np.where(col == 1)[0][0]\n",
        "            optimal_values[i] = tableau[row, -1]\n",
        "\n",
        "    obj_value = tableau[-1, -1]\n",
        "\n",
        "    return tableau, optimal_values, obj_value"
      ]
    },
    {
      "cell_type": "markdown",
      "metadata": {
        "id": "-WMnK_Zh-EGH"
      },
      "source": [
        "**Dual Simplex**"
      ]
    },
    {
      "cell_type": "code",
      "execution_count": 2,
      "metadata": {
        "id": "oRwctFeQ-Gy_"
      },
      "outputs": [],
      "source": [
        "import numpy as np\n",
        "def dual_simplex(c, A, b):\n",
        "    # Number of variables and constraints\n",
        "    num_vars = len(c)\n",
        "    num_constraints = len(b)\n",
        "\n",
        "    # Create an initial tableau (A x <= b)\n",
        "    tableau = np.zeros((num_constraints + 1, num_vars + num_constraints + 1))\n",
        "\n",
        "    # #maximize with <= constraints\n",
        "    # c = -c\n",
        "\n",
        "    # Fill the tableau\n",
        "    tableau[:num_constraints, :num_vars] = A  # Coefficients of constraints\n",
        "    tableau[:num_constraints, num_vars:num_vars + num_constraints] = np.eye(num_constraints)  # Slack variables\n",
        "    tableau[:num_constraints, -1] = b  # Right-hand side (RHS)\n",
        "    tableau[-1, :num_vars] = c\n",
        "\n",
        "    # Dual Simplex iterations\n",
        "    while True:\n",
        "        # Step 1: Check if tableau is feasible (all RHS >= 0)\n",
        "        if np.all(tableau[:-1, -1] >= 0):\n",
        "            # Feasible solution found\n",
        "            break\n",
        "\n",
        "        # Step 2: Choose the leaving variable (most negative entry in RHS)\n",
        "        pivot_row = np.argmin(tableau[:-1, -1])\n",
        "\n",
        "        # Step 3: Choose the entering variable (pivot column based on smallest ratio in objective row)\n",
        "        row = tableau[pivot_row, :-1]\n",
        "        valid_cols = np.where(row < 0)[0]  # Valid columns for entering variable\n",
        "        if len(valid_cols) == 0:\n",
        "            raise ValueError(\"No valid pivot column found. Problem might be unbounded.\")\n",
        "\n",
        "        # Step 4: Ratio test to select entering variable\n",
        "        ratios = tableau[-1, valid_cols] / row[valid_cols]\n",
        "        pivot_col = valid_cols[np.argmin(ratios)]\n",
        "\n",
        "        # Step 5: Pivot to make pivot element 1 and others in the column 0\n",
        "        pivot_element = tableau[pivot_row, pivot_col]\n",
        "        tableau[pivot_row, :] /= pivot_element\n",
        "\n",
        "        for i in range(len(tableau)):\n",
        "            if i != pivot_row:\n",
        "                tableau[i, :] -= tableau[i, pivot_col] * tableau[pivot_row, :]\n",
        "\n",
        "    # Extracting the final optimal values for the original variables\n",
        "    optimal_values = np.zeros(num_vars)\n",
        "    for i in range(num_vars):\n",
        "        col = tableau[:-1, i]\n",
        "        if np.count_nonzero(col) == 1 and np.any(col == 1):\n",
        "            row = np.where(col == 1)[0][0]\n",
        "            optimal_values[i] = tableau[row, -1]\n",
        "\n",
        "    # Final tableau and optimal values\n",
        "    return tableau, optimal_values, tableau[-1, -1]"
      ]
    },
    {
      "cell_type": "markdown",
      "metadata": {
        "id": "XEs6_Re49lBn"
      },
      "source": [
        "**Gomory Cut**"
      ]
    },
    {
      "cell_type": "code",
      "execution_count": 3,
      "metadata": {
        "id": "XDH2iiLo9QcR"
      },
      "outputs": [],
      "source": [
        "def gomory_cut(tableau):\n",
        "    num_vars = len(c)  # Number of original variables (excluding slack and objective)\n",
        "\n",
        "    fractional_rows = []\n",
        "\n",
        "    for i in range(num_vars):\n",
        "        # Check if the row corresponds to a basic variable (only one non-zero entry)\n",
        "        non_zero_indices = np.nonzero(tableau[:, i])[0]\n",
        "        if len(non_zero_indices) == 1:  # Ensure there's exactly one non-zero entry\n",
        "            row_idx = non_zero_indices[0]\n",
        "            if tableau[row_idx, -1] != np.floor(tableau[row_idx, -1]):  # Check if the solution is fractional\n",
        "                fractional_rows.append(row_idx)\n",
        "\n",
        "    if len(fractional_rows) == 0:\n",
        "        print(\"No fractional rows found. The solution is already integer.\")\n",
        "        return None, None\n",
        "\n",
        "    # Choose the first fractional basic variable (row)\n",
        "    row_idx = fractional_rows[0]\n",
        "\n",
        "    # Get the fractional part of the chosen row\n",
        "    row = tableau[row_idx, :-1]\n",
        "    rhs_value = tableau[row_idx, -1]\n",
        "    rhs_fractional_part = rhs_value - np.floor(rhs_value)\n",
        "\n",
        "    # Construct the Gomory cut (new constraint)\n",
        "    new_cut = np.array([element - np.floor(element) if element >= 0 else -(np.floor(element) - element) for element in row])\n",
        "    new_rhs = -rhs_fractional_part\n",
        "\n",
        "    # Add slack variable: Append 1 to the new cut row\n",
        "    new_cut_row = np.append(-new_cut, [1])  # Slack variable for the new cut\n",
        "    new_cut_row = np.append(new_cut_row, [new_rhs])  # RHS for the new cut\n",
        "\n",
        "    # Expand the tableau with an additional slack column and new row\n",
        "    new_tableau = np.hstack([tableau[:, :-1], np.zeros((tableau.shape[0], 1)), tableau[:, -1:]])  # Add slack column\n",
        "    new_tableau = np.vstack([new_tableau[:-1, :], new_cut_row, new_tableau[-1, :]])  # Insert new cut row before objective\n",
        "\n",
        "    return new_tableau, new_cut_row"
      ]
    },
    {
      "cell_type": "markdown",
      "metadata": {
        "id": "WKTe6K0SxD0G"
      },
      "source": [
        "Dual simplex but takes table as input"
      ]
    },
    {
      "cell_type": "code",
      "execution_count": 4,
      "metadata": {
        "id": "5M7nai2xuhq3"
      },
      "outputs": [],
      "source": [
        "def dual_simplex_tableau(tableau):\n",
        "  num_vars = len(c)\n",
        "  while True:\n",
        "        # Step 1: Check if tableau is feasible (all RHS >= 0)\n",
        "        if np.all(tableau[:-1, -1] >= 0):\n",
        "            # Feasible solution found\n",
        "            break\n",
        "\n",
        "        # Step 2: Choose the leaving variable (most negative entry in RHS)\n",
        "        pivot_row = np.argmin(tableau[:-1, -1])\n",
        "\n",
        "        # Step 3: Choose the entering variable (pivot column based on smallest ratio in objective row)\n",
        "        row = tableau[pivot_row, :-1]\n",
        "        valid_cols = np.where(row < 0)[0]  # Valid columns for entering variable\n",
        "        if len(valid_cols) == 0:\n",
        "            raise ValueError(\"No valid pivot column found. Problem might be unbounded.\")\n",
        "\n",
        "        # Step 4: Ratio test to select entering variable\n",
        "        ratios = tableau[-1, valid_cols] / row[valid_cols]\n",
        "        pivot_col = valid_cols[np.argmin(ratios)]\n",
        "\n",
        "        # Step 5: Pivot to make pivot element 1 and others in the column 0\n",
        "        pivot_element = tableau[pivot_row, pivot_col]\n",
        "        tableau[pivot_row, :] /= pivot_element\n",
        "\n",
        "        for i in range(len(tableau)):\n",
        "            if i != pivot_row:\n",
        "                tableau[i, :] -= tableau[i, pivot_col] * tableau[pivot_row, :]\n",
        "\n",
        "    # Extracting the final optimal values for the original variables\n",
        "  optimal_values = np.zeros(num_vars)\n",
        "  for i in range(num_vars):\n",
        "      col = tableau[:-1, i]\n",
        "      if np.count_nonzero(col) == 1 and np.any(col == 1):\n",
        "          row = np.where(col == 1)[0][0]\n",
        "          optimal_values[i] = tableau[row, -1]\n",
        "\n",
        "    # Final tableau and optimal values\n",
        "  return tableau, optimal_values, tableau[-1, -1]"
      ]
    },
    {
      "cell_type": "markdown",
      "metadata": {
        "id": "LbVMzWke-HQX"
      },
      "source": [
        "**Logic**"
      ]
    },
    {
      "cell_type": "markdown",
      "metadata": {
        "id": "rp-5aOLTv4wm"
      },
      "source": [
        "  1. Use simplex or dual_simplex function (whichever appropriate) to get the initial optimal tableau\n",
        "  2. Pass the tableau to add_gomory_cut function to get the new tableau which has new constraints added to it.\n",
        "  3. The new tableau is passed to dual_simplex_tableau function to get new table, if the solution is not integer, repeat from step 2."
      ]
    },
    {
      "cell_type": "markdown",
      "metadata": {
        "id": "9i1WgJLGxQu_"
      },
      "source": [
        "**Main Code**"
      ]
    },
    {
      "cell_type": "code",
      "execution_count": 5,
      "metadata": {
        "id": "cr2y-G_nx-zm"
      },
      "outputs": [],
      "source": [
        "def is_integer_solution(solution, tolerance=1e-5):\n",
        "    return np.all(np.abs(solution - np.round(solution)) < tolerance)"
      ]
    },
    {
      "cell_type": "code",
      "execution_count": 6,
      "metadata": {
        "id": "hb0A-7H7xiXP"
      },
      "outputs": [],
      "source": [
        "def cutting_plane_method(c, A, b):\n",
        "\n",
        "    # Step 1: Solve the linear relaxation using simplex / dual simplex\n",
        "\n",
        "    if any(element < 0 for element in b):\n",
        "      tableau, solution, obj_value = dual_simplex(c, A, b)\n",
        "      tableau[-1,:] = -tableau[-1,:]\n",
        "      print(solution)\n",
        "    else:\n",
        "      tableau, solution, obj_value = simplex(c, A, b)\n",
        "      print(solution)\n",
        "\n",
        "    i = 0\n",
        "\n",
        "    while not is_integer_solution(solution):\n",
        "        # Step 2: Generate Gomory cut if solution is not integer\n",
        "        tableau, cut = gomory_cut(tableau)\n",
        "        if i%2 == 0:\n",
        "          tableau[-1,:] = -tableau[-1,:]\n",
        "\n",
        "        i += 1\n",
        "\n",
        "        # Step 3: Re-solve the modified LP using dual simplex\n",
        "        tableau, solution, obj_value = dual_simplex_tableau(tableau)\n",
        "        print(solution)\n",
        "\n",
        "    obj_value = np.dot(c, solution)\n",
        "\n",
        "    return solution, obj_value"
      ]
    },
    {
      "cell_type": "markdown",
      "metadata": {
        "id": "w6gY6_kFHeBQ"
      },
      "source": [
        "**DEMO**\n",
        "\n",
        "---\n",
        "\n",
        "\n",
        "Problem: max c.T*x subject to Ax <= b\n",
        "1. c should be of maximize form\n",
        "2. constraints should be of Ax <= b form"
      ]
    },
    {
      "cell_type": "code",
      "execution_count": 7,
      "metadata": {
        "colab": {
          "base_uri": "https://localhost:8080/"
        },
        "id": "w_RjG4pBC0l6",
        "outputId": "21d4190a-1cc8-45dd-cea7-06f6a58504de"
      },
      "outputs": [
        {
          "output_type": "stream",
          "name": "stdout",
          "text": [
            "[3.  0.4 2.8]\n",
            "[3.         0.66666667 2.66666667]\n",
            "[3. 2. 2.]\n"
          ]
        },
        {
          "output_type": "execute_result",
          "data": {
            "text/plain": [
              "(array([3., 2., 2.]), -28.000000000000007)"
            ]
          },
          "metadata": {},
          "execution_count": 7
        }
      ],
      "source": [
        "c = [-4, -3, -5]  # Coefficients for the objective function (maximize) z = c.T*x\n",
        "A = [[-2,-3,-1],[-1,-2,-4],[-3,-1,-2],[1,0,1],[0,1,2]]  # Coefficient matrix for inequalities Ax <= b\n",
        "b = [-10,-15,-12,7,6]  # Right-hand side of inequalities (Ax <= b)\n",
        "\n",
        "cutting_plane_method(c,A,b)"
      ]
    }
  ],
  "metadata": {
    "colab": {
      "provenance": []
    },
    "kernelspec": {
      "display_name": "Python 3",
      "name": "python3"
    },
    "language_info": {
      "name": "python"
    }
  },
  "nbformat": 4,
  "nbformat_minor": 0
}