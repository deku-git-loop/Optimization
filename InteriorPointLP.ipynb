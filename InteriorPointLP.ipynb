{
  "nbformat": 4,
  "nbformat_minor": 0,
  "metadata": {
    "colab": {
      "provenance": []
    },
    "kernelspec": {
      "name": "python3",
      "display_name": "Python 3"
    },
    "language_info": {
      "name": "python"
    }
  },
  "cells": [
    {
      "cell_type": "code",
      "source": [
        "import numpy as np\n",
        "np.set_printoptions(precision=8, suppress=True)\n",
        "\n",
        "def primal_afffine(A,b,c,x, iterations = 15, epsilon = 1):\n",
        "\n",
        "  iteration = 0\n",
        "\n",
        "  X = np.diag(x)\n",
        "\n",
        "  lamda_0 = np.linalg.inv(A @ X**2 @ A.T) @ A @ X**2 @ c\n",
        "\n",
        "  while (c.T @ x - b.T @ lamda_0) > epsilon:\n",
        "    d = -(np.eye(len(x))- X @ A.T @ np.linalg.inv(A @ X**2 @ A.T) @ A @ X) @ X @ c\n",
        "\n",
        "    if np.all(d >= 0): print('Problem is unbounded')\n",
        "    negative_ratios = [-1 / value for value in d if value < 0]\n",
        "    min_ratio = min(negative_ratios)\n",
        "    alpha = 0.99*min_ratio\n",
        "\n",
        "    x = X @ (np.ones(len(d)) + alpha*d)\n",
        "    X = np.diag(x)\n",
        "\n",
        "    lamda_0 = np.linalg.inv(A @ X**2 @ A.T) @ A @ X**2 @ c\n",
        "\n",
        "    iteration += 1\n",
        "\n",
        "    if iteration > iterations: return 'Max iterations reached'\n",
        "\n",
        "  return x"
      ],
      "metadata": {
        "id": "Tl_13a_U6FEp"
      },
      "execution_count": 35,
      "outputs": []
    },
    {
      "cell_type": "code",
      "source": [
        "#Intial guess as interior point\n",
        "A = [\n",
        "    [1, 0, 0, 0, 0, 0, -1, 0, 0, 0, 0, 0, 0, 0, 0, 0],\n",
        "    [1, 1, 0, 0, 1, 0, 0, -1, 0, 0, 0, 0, 0, 0, 0, 0],\n",
        "    [1, 1, 1, 0, 1, 1, 0, 0, -1, 0, 0, 0, 0, 0, 0, 0],\n",
        "    [1, 1, 1, 1, 1, 1, 0, 0, 0, -1, 0, 0, 0, 0, 0, 0],\n",
        "    [1, 0, 0, 0, 0, 0, 0, 0, 0, 0, 1, 0, 0, 0, 0, 0],\n",
        "    [0, 1, 0, 0, 0, 0, 0, 0, 0, 0, 0, 1, 0, 0, 0, 0],\n",
        "    [0, 0, 1, 0, 0, 0, 0, 0, 0, 0, 0, 0, 1, 0, 0, 0],\n",
        "    [0, 0, 0, 1, 0, 0, 0, 0, 0, 0, 0, 0, 0, 1, 0, 0],\n",
        "    [0, 0, 0, 0, 1, 0, 0, 0, 0, 0, 0, 0, 0, 0, 1, 0],\n",
        "    [0, 0, 0, 0, 0, 1, 0, 0, 0, 0, 0, 0, 0, 0, 0, 1]\n",
        "]\n",
        "A = np.array(A)\n",
        "\n",
        "b = [300, 1000, 1900, 2700, 700, 700, 700, 700, 200, 200]\n",
        "b = np.array(b)\n",
        "\n",
        "c = [19, 16, 18, 15, 21, 23, 0, 0, 0, 0, 0, 0, 0, 0, 0, 0]\n",
        "c = np.array(c)\n",
        "\n",
        "x = np.array([650, 650, 600, 600, 150, 150, 350, 450, 300, 100, 50, 50, 100, 100, 50, 50])\n",
        "print(A @ x - b)"
      ],
      "metadata": {
        "id": "6phV7B5U_9wa",
        "outputId": "e6e66c28-ae9a-44cd-d0a4-eb9dc9e16aac",
        "colab": {
          "base_uri": "https://localhost:8080/"
        }
      },
      "execution_count": 36,
      "outputs": [
        {
          "output_type": "stream",
          "name": "stdout",
          "text": [
            "[0 0 0 0 0 0 0 0 0 0]\n"
          ]
        }
      ]
    },
    {
      "cell_type": "code",
      "source": [
        "print('final values for intial guess as interior point')\n",
        "primal_afffine(A,b,c,x)"
      ],
      "metadata": {
        "id": "lXlKwiLyAE5I",
        "outputId": "aa678111-6d83-4726-ee51-14b39dd26472",
        "colab": {
          "base_uri": "https://localhost:8080/"
        }
      },
      "execution_count": 37,
      "outputs": [
        {
          "output_type": "stream",
          "name": "stdout",
          "text": [
            "final values for intial guess as interior point\n"
          ]
        },
        {
          "output_type": "execute_result",
          "data": {
            "text/plain": [
              "array([599.9867027 , 699.94583731, 699.98855305, 699.94239951,\n",
              "         0.13330567,   0.00549446, 299.98670266, 300.06584532,\n",
              "       100.05989278,   0.00229182, 100.01329735,   0.05416299,\n",
              "         0.011447  ,   0.05760096, 199.86669433, 199.99450554])"
            ]
          },
          "metadata": {},
          "execution_count": 37
        }
      ]
    },
    {
      "cell_type": "code",
      "source": [
        "#Intial guess not an interior point\n",
        "A = [\n",
        "    [1, 0, 0, 0, 0, 0, -1, 0, 0, 0, 0, 0, 0, 0, 0, 0],\n",
        "    [1, 1, 0, 0, 1, 0, 0, -1, 0, 0, 0, 0, 0, 0, 0, 0],\n",
        "    [1, 1, 1, 0, 1, 1, 0, 0, -1, 0, 0, 0, 0, 0, 0, 0],\n",
        "    [1, 1, 1, 1, 1, 1, 0, 0, 0, -1, 0, 0, 0, 0, 0, 0],\n",
        "    [1, 0, 0, 0, 0, 0, 0, 0, 0, 0, 1, 0, 0, 0, 0, 0],\n",
        "    [0, 1, 0, 0, 0, 0, 0, 0, 0, 0, 0, 1, 0, 0, 0, 0],\n",
        "    [0, 0, 1, 0, 0, 0, 0, 0, 0, 0, 0, 0, 1, 0, 0, 0],\n",
        "    [0, 0, 0, 1, 0, 0, 0, 0, 0, 0, 0, 0, 0, 1, 0, 0],\n",
        "    [0, 0, 0, 0, 1, 0, 0, 0, 0, 0, 0, 0, 0, 0, 1, 0],\n",
        "    [0, 0, 0, 0, 0, 1, 0, 0, 0, 0, 0, 0, 0, 0, 0, 1]\n",
        "]\n",
        "A = np.array(A)\n",
        "\n",
        "b = [300, 1000, 1900, 2700, 700, 700, 700, 700, 200, 200]\n",
        "b = np.array(b)\n",
        "\n",
        "c = [19, 16, 18, 15, 21, 23, 0, 0, 0, 0, 0, 0, 0, 0, 0, 0]\n",
        "c = np.array(c)\n",
        "\n",
        "x = [700, 700, 700, 700, 200, 200, 100, 100, 100, 100, 100, 100, 100, 100, 100, 100] #not interior point\n",
        "x = np.array(x)\n",
        "\n",
        "result = np.dot(A, x)\n",
        "\n",
        "r = b - result\n",
        "\n",
        "A_m = np.hstack((A, r.reshape(-1, 1)))\n",
        "\n",
        "x_m = np.hstack((x, 1))\n",
        "\n",
        "c_m = np.hstack((c, 10**5))"
      ],
      "metadata": {
        "id": "xCWGFFtEAloM"
      },
      "execution_count": 38,
      "outputs": []
    },
    {
      "cell_type": "code",
      "source": [
        "print('final values for intial guess not an interior point')\n",
        "primal_afffine(A_m,b,c_m,x_m)"
      ],
      "metadata": {
        "id": "BZZV_9SoBA5x",
        "outputId": "ed6b6cb1-ce31-421d-d5aa-4667368e685f",
        "colab": {
          "base_uri": "https://localhost:8080/"
        }
      },
      "execution_count": 39,
      "outputs": [
        {
          "output_type": "stream",
          "name": "stdout",
          "text": [
            "final values for intial guess not an interior point\n"
          ]
        },
        {
          "output_type": "execute_result",
          "data": {
            "text/plain": [
              "array([600.00688248, 699.97569157, 699.98006386, 699.9990695 ,\n",
              "         0.01791117,   0.02504838, 300.00669932, 300.00017976,\n",
              "       100.00529182,   0.00442087,  99.99317888,   0.02436964,\n",
              "         0.01999731,   0.00099285, 199.98214977, 199.97501256,\n",
              "         0.00000061])"
            ]
          },
          "metadata": {},
          "execution_count": 39
        }
      ]
    }
  ]
}
