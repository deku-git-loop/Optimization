{
  "nbformat": 4,
  "nbformat_minor": 0,
  "metadata": {
    "colab": {
      "provenance": []
    },
    "kernelspec": {
      "name": "python3",
      "display_name": "Python 3"
    },
    "language_info": {
      "name": "python"
    }
  },
  "cells": [
    {
      "cell_type": "code",
      "execution_count": 410,
      "metadata": {
        "id": "LOmBqtkEuAaM"
      },
      "outputs": [],
      "source": [
        "import numpy as np"
      ]
    },
    {
      "cell_type": "code",
      "source": [
        "def gradient(f, x, h=1e-5):\n",
        "    n = len(x)\n",
        "    grad = np.zeros(n)\n",
        "    for i in range(n):\n",
        "        x_forward = np.copy(x)\n",
        "        x_backward = np.copy(x)\n",
        "        x_forward[i] += h\n",
        "        x_backward[i] -= h\n",
        "        grad[i] = (f(x_forward) - f(x_backward)) / (2 * h)\n",
        "    return grad"
      ],
      "metadata": {
        "id": "HKE12Z0UwdkX"
      },
      "execution_count": 411,
      "outputs": []
    },
    {
      "cell_type": "code",
      "source": [
        "def line_search(f, x, p, alpha_bar = 1.0, rho = 0.5, c1 = 1e-4):\n",
        "  alpha = alpha_bar\n",
        "\n",
        "  while f(x + alpha*p) > f(x) + c1*alpha*np.dot(gradient(f1,x),p):\n",
        "    alpha = rho*alpha\n",
        "\n",
        "  return alpha"
      ],
      "metadata": {
        "id": "0lP3Up1dxbLj"
      },
      "execution_count": 412,
      "outputs": []
    },
    {
      "cell_type": "code",
      "source": [
        "def bfgs(f, x0, max_iter=100, tol=1e-3):\n",
        "\n",
        "    n = len(x0)\n",
        "    x = np.copy(x0)\n",
        "    I = np.eye(n)\n",
        "    H = I  # Initial approximation of the inverse Hessian\n",
        "\n",
        "    for _ in range(max_iter):\n",
        "\n",
        "        g = gradient(f, x)\n",
        "\n",
        "        if np.linalg.norm(g) < tol: return x\n",
        "\n",
        "        p = -np.dot(H, g)\n",
        "\n",
        "        alpha = line_search(f, x, p)\n",
        "\n",
        "        x_new = x + alpha * p\n",
        "\n",
        "        g_new = gradient(f, x_new)\n",
        "\n",
        "        s = x_new - x\n",
        "        y = g_new - g\n",
        "\n",
        "        rho = 1.0 / np.dot(y, s)\n",
        "        H = rho * np.outer(s, s) + (I - rho * np.outer(s, y)) @ H @ (I - rho * np.outer(y, s))\n",
        "\n",
        "        x = x_new\n",
        "\n",
        "    print(\"Maximum iterations reached.\")\n",
        "    return x"
      ],
      "metadata": {
        "id": "o06spADDKRqE"
      },
      "execution_count": 413,
      "outputs": []
    },
    {
      "cell_type": "code",
      "source": [
        "#Q1\n",
        "def f1(x):\n",
        "  return (x[0]**2 + x[1] - 11)**2 + (x[0] + x[1]**2 -7)**2\n",
        "\n",
        "x = bfgs(f1, [1.0, 1.0])\n",
        "\n",
        "f = f1(x)\n",
        "print(f'Optimal x is {x} and optimal function value is {f}')"
      ],
      "metadata": {
        "colab": {
          "base_uri": "https://localhost:8080/"
        },
        "id": "aQl_dMqWzkPL",
        "outputId": "fae65f34-70d8-4011-ce08-ce8d369d8b3d"
      },
      "execution_count": 414,
      "outputs": [
        {
          "output_type": "stream",
          "name": "stdout",
          "text": [
            "Optimal x is [2.99999998 1.99999967] and optimal function value is 2.0039951491285608e-12\n"
          ]
        }
      ]
    },
    {
      "cell_type": "code",
      "source": [
        "#Q2\n",
        "def f2(x):\n",
        "  return 100*(x[1]-x[0]**2)**2 + (1-x[0])**2\n",
        "\n",
        "x = bfgs(f2, [1.0,2.0])  #make sure intial guess is valid i.e. x1 not equal to x2\n",
        "f = f2(x)\n",
        "\n",
        "print(f'Optimal x is {x} and optimal function value is {f}')"
      ],
      "metadata": {
        "id": "Xx66VuLoTtOj",
        "colab": {
          "base_uri": "https://localhost:8080/"
        },
        "outputId": "923d0c9c-9df0-463a-d0c8-47db09a106e9"
      },
      "execution_count": 415,
      "outputs": [
        {
          "output_type": "stream",
          "name": "stdout",
          "text": [
            "Maximum iterations reached.\n",
            "Optimal x is [0.99860382 0.99716969] and optimal function value is 2.108528655030311e-06\n"
          ]
        }
      ]
    },
    {
      "cell_type": "code",
      "source": [
        "#Q3\n",
        "def f3(x):\n",
        "  return 0.1*(12 + x[0]**2 + ((1 + x[1])**2)/(x[0]**2) + (x[0]**2 + x[1]**2 + 100)/((x[0]*x[1])**4))\n",
        "\n",
        "x = bfgs(f3, [2.0,4.0])\n",
        "f = f3(x)\n",
        "\n",
        "print(f'Optimal x is {x} and optimal function value is {f}')"
      ],
      "metadata": {
        "colab": {
          "base_uri": "https://localhost:8080/"
        },
        "id": "D7wW1VCmVRP7",
        "outputId": "45e71a43-ed78-484a-dde0-15666d21afeb"
      },
      "execution_count": 416,
      "outputs": [
        {
          "output_type": "stream",
          "name": "stdout",
          "text": [
            "Optimal x is [1.90521389 1.82999395] and optimal function value is 1.8560211756466551\n"
          ]
        }
      ]
    },
    {
      "cell_type": "code",
      "source": [
        "#Q4\n",
        "def f4(x):\n",
        "  x1, x2, x3, x4 = x\n",
        "  return (x1 + 10*x2)**2 + 5*(x3-x4)**2 + (x2-2*x3)**4 + 10*(x1-x4)**4\n",
        "\n",
        "x = bfgs(f4, [1,1,1,1])\n",
        "f = f4(x)\n",
        "\n",
        "print(f'Optimal x is {x} and optimal function value is {f}')"
      ],
      "metadata": {
        "colab": {
          "base_uri": "https://localhost:8080/"
        },
        "id": "fjImx6ZZVVSy",
        "outputId": "5c9d95da-ff73-4e0a-fb5d-b2c82b451f32"
      },
      "execution_count": 417,
      "outputs": [
        {
          "output_type": "stream",
          "name": "stdout",
          "text": [
            "Optimal x is [ 0.0291547  -0.00291557  0.01673789  0.0167382 ] and optimal function value is 1.9915331800875718e-06\n"
          ]
        }
      ]
    },
    {
      "cell_type": "code",
      "source": [
        "##checking with inbuilt function\n",
        "# import numpy as np\n",
        "# from scipy.optimize import minimize\n",
        "\n",
        "# # Define the function\n",
        "# def f3(x):\n",
        "#     x0, x1 = x\n",
        "#     return 0.1 * (12 + x0**2 + ((1 + x1)**2) / (x0**2) + (x0**2 + x1**2 + 100) / ((x0 * x1)**4))\n",
        "\n",
        "# # Initial guess\n",
        "# x0_initial = [1, 1]\n",
        "\n",
        "# # Perform the optimization\n",
        "# result = minimize(f3, x0_initial, method='Nelder-Mead')\n",
        "\n",
        "# # Print the result\n",
        "# print(\"Optimal value of x:\", result.x)\n",
        "# print(\"Minimum value of f3:\", result.fun)"
      ],
      "metadata": {
        "id": "qjxogteDXMsC"
      },
      "execution_count": 418,
      "outputs": []
    }
  ]
}
