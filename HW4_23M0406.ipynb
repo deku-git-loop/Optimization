{
  "nbformat": 4,
  "nbformat_minor": 0,
  "metadata": {
    "colab": {
      "provenance": []
    },
    "kernelspec": {
      "name": "python3",
      "display_name": "Python 3"
    },
    "language_info": {
      "name": "python"
    }
  },
  "cells": [
    {
      "cell_type": "code",
      "execution_count": 94,
      "metadata": {
        "id": "Xvyxxf5dLop1"
      },
      "outputs": [],
      "source": [
        "import numpy as np\n",
        "\n",
        "def line_search(f, x, d, alpha1=1.0, delta=0.1, ftol=1e-5, xtol=1e-5, max_iter=100):\n",
        "  #line search using powell successive quadratic estimation\n",
        "\n",
        "  g = lambda alpha: f(np.array(x) + alpha * np.array(d))  #converting multivariate function into univariate in alpha\n",
        "\n",
        "  alpha2 = alpha1 + delta\n",
        "\n",
        "  if g(alpha1) > g(alpha2):\n",
        "    alpha3 = alpha1 + 2*delta\n",
        "  else:\n",
        "    alpha3 = alpha1 - delta\n",
        "\n",
        "  for _ in range(max_iter):\n",
        "    f1 = g(alpha1)\n",
        "    f2 = g(alpha2)\n",
        "    f3 = g(alpha3)\n",
        "\n",
        "    f_min = min(f1, f2, f3)\n",
        "\n",
        "    if f_min == f1:\n",
        "      alpha_min = alpha1\n",
        "    elif f_min == f2:\n",
        "      alpha_min = alpha2\n",
        "    else:\n",
        "      alpha_min = alpha3\n",
        "\n",
        "    a0 = f1\n",
        "    a1 = (f2 - f1)/(alpha2-alpha1)\n",
        "    a2 = ((f3 - f1)/(alpha3-alpha1) - (f2 - f1)/(alpha2 - alpha1))/(alpha3 - alpha2)\n",
        "\n",
        "    alpha_star = (alpha1+alpha2)/2 - a1/(2*a2)\n",
        "\n",
        "    if (g(alpha_star) - g(alpha_min)) < ftol and abs(alpha_star - alpha_min) < xtol: return alpha_star\n",
        "\n",
        "    f_values = [[f1, alpha1], [f2, alpha2], [f3, alpha3], [g(alpha_star), alpha_star]]\n",
        "    sorted_f = sorted(f_values, key=lambda x: x[0])\n",
        "    y = [entry[1] for entry in sorted_f]\n",
        "    alpha1, alpha2, alpha3 = y[0], y[1], y[2]\n",
        "\n",
        "  return alpha_star"
      ]
    },
    {
      "cell_type": "code",
      "source": [
        "def powell_conjugate_method(f, x0, tol=1e-5, max_iter=100):\n",
        "    n = len(x0)\n",
        "    directions = np.eye(n)\n",
        "    x = x0.copy()\n",
        "\n",
        "    for iteration in range(max_iter):\n",
        "\n",
        "        # Minimize along each direction\n",
        "        for i in range(n):\n",
        "            d = directions[i]\n",
        "            alpha = line_search(f, x, d)\n",
        "            x = x + alpha * d\n",
        "            if i == 0:\n",
        "              x_dash = x\n",
        "\n",
        "        d_dash = directions[0]\n",
        "        alpha_dash = line_search(f, x, d_dash)\n",
        "        x = x + alpha_dash * d_dash\n",
        "\n",
        "\n",
        "        d_new = x - x_dash\n",
        "\n",
        "        if np.linalg.norm(d_new) < tol: return x\n",
        "\n",
        "        d_new = (x - x_dash)/np.linalg.norm(x - x_dash)\n",
        "\n",
        "        # Move directions to right and replace 0th direction with new direction\n",
        "        directions = np.roll(directions, 1, axis=1)\n",
        "        directions[0] = d_new\n",
        "\n",
        "    return x"
      ],
      "metadata": {
        "id": "vxYwy0dySPKH"
      },
      "execution_count": 95,
      "outputs": []
    },
    {
      "cell_type": "code",
      "source": [
        "#Q1\n",
        "def f1(x):\n",
        "  return (x[0]**2 + x[1] - 11)**2 + (x[0] + x[1]**2 -7)**2\n",
        "\n",
        "x = powell_conjugate_method(f1, [0,0])\n",
        "f = f1(x)\n",
        "\n",
        "print(f'Optimal x is {x} and optimal function value is {f}')"
      ],
      "metadata": {
        "id": "dc4mrw0bL2P5",
        "colab": {
          "base_uri": "https://localhost:8080/"
        },
        "outputId": "25fce7eb-2296-44b6-aa5b-893f238c7018"
      },
      "execution_count": 99,
      "outputs": [
        {
          "output_type": "stream",
          "name": "stdout",
          "text": [
            "Optimal x is [2.99999991 1.99999999] and optimal function value is 3.5095166633172893e-13\n"
          ]
        }
      ]
    },
    {
      "cell_type": "code",
      "source": [
        "#Q2\n",
        "def f2(x):\n",
        "  return 100*(x[1]-x[0]**2)**2 + (1-x[0])**2\n",
        "\n",
        "x = powell_conjugate_method(f2, [0,0])\n",
        "f = f2(x)\n",
        "\n",
        "print(f'Optimal x is {x} and optimal function value is {f}')"
      ],
      "metadata": {
        "colab": {
          "base_uri": "https://localhost:8080/"
        },
        "id": "GvpPPJsxSbT3",
        "outputId": "c008870f-f1c8-4c18-dc34-5bba7c049c92"
      },
      "execution_count": 101,
      "outputs": [
        {
          "output_type": "stream",
          "name": "stdout",
          "text": [
            "Optimal x is [1.00000163 1.00000302] and optimal function value is 9.122478811989225e-12\n"
          ]
        }
      ]
    },
    {
      "cell_type": "code",
      "source": [
        "#Q3\n",
        "def f3(x):\n",
        "  return 0.1*(12 + x[0]**2 + ((1 + x[1])**2)/(x[0]**2) + (x[0]**2 + x[1]**2 + 100)/((x[0]*x[1])**4))\n",
        "\n",
        "x = powell_conjugate_method(f3, [1.0,1.0])\n",
        "f = f3(x)\n",
        "\n",
        "print(f'Optimal x is {x} and optimal function value is {f}')"
      ],
      "metadata": {
        "colab": {
          "base_uri": "https://localhost:8080/"
        },
        "id": "N08oCzIHcLuF",
        "outputId": "5f74abbf-cecc-4408-9953-6d7149d925ad"
      },
      "execution_count": 108,
      "outputs": [
        {
          "output_type": "stream",
          "name": "stdout",
          "text": [
            "Optimal x is [-1.90526555  1.8296432 ] and optimal function value is 1.8560211477421777\n"
          ]
        }
      ]
    },
    {
      "cell_type": "code",
      "source": [
        "#Q4\n",
        "def f4(x):\n",
        "  x1, x2, x3, x4 = x\n",
        "  return (x1 + 10*x2)**2 + 5*(x3-x4)**2 + (x2-2*x3)**4 + 10*(x1-x4)**4\n",
        "\n",
        "x = powell_conjugate_method(f4, [1,1,1,1])\n",
        "f = f4(x)\n",
        "\n",
        "print(f'Optimal x is {x} and optimal function value is {f}')"
      ],
      "metadata": {
        "colab": {
          "base_uri": "https://localhost:8080/"
        },
        "id": "peBob8dieImO",
        "outputId": "ce0d41a6-40fd-4cb1-c7bc-1d5081ab154b"
      },
      "execution_count": 109,
      "outputs": [
        {
          "output_type": "stream",
          "name": "stdout",
          "text": [
            "Optimal x is [ 0.00403011 -0.00040328  0.00395614  0.00395662] and optimal function value is 4.790176454338153e-09\n"
          ]
        }
      ]
    }
  ]
}