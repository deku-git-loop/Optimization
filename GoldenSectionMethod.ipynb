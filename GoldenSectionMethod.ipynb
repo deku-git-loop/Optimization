{
  "nbformat": 4,
  "nbformat_minor": 0,
  "metadata": {
    "colab": {
      "provenance": []
    },
    "kernelspec": {
      "name": "python3",
      "display_name": "Python 3"
    },
    "language_info": {
      "name": "python"
    }
  },
  "cells": [
    {
      "cell_type": "markdown",
      "source": [
        "Implementing the bouding phase and Golden Section Method"
      ],
      "metadata": {
        "id": "dNmmF6--pHOk"
      }
    },
    {
      "cell_type": "code",
      "execution_count": 120,
      "metadata": {
        "id": "w0ywq3IWOhF3"
      },
      "outputs": [],
      "source": [
        "#Bouding phase\n",
        "\n",
        "def swan(f, x0, step):\n",
        "\n",
        "  k = 1\n",
        "\n",
        "  f0 = f(x0)\n",
        "\n",
        "  x1 = x0 - abs(step)\n",
        "  x2 = x0 + abs(step)\n",
        "\n",
        "  f1 = f(x1)\n",
        "  f2 = f(x2)\n",
        "\n",
        "  #case where user puts a wrong step for initial guess\n",
        "  #step direction needs to be changed\n",
        "  if f1 <= f0 <= f2 and step > 0:\n",
        "    step = -step\n",
        "\n",
        "  if f1 >= f0 >= f2 and step < 0:\n",
        "    step = -step\n",
        "\n",
        "  #if initial guess and step direction is correct\n",
        "  if f1 >= f0 >= f2 and step > 0:\n",
        "   while f1 >= f0 >= f2:\n",
        "      x1 = x0\n",
        "      x0 = x2\n",
        "      x2 = x2 + 2**k*step\n",
        "      k +=1\n",
        "      f1 = f(x1)\n",
        "      f0 = f(x0)\n",
        "      f2 = f(x2)\n",
        "   return (x1,x2)\n",
        "\n",
        "  elif f1 <= f0 <= f2 and step < 0:\n",
        "   while f1 <= f0 <= f2:\n",
        "      x2 = x0\n",
        "      x0 = x1\n",
        "      x1 = x1 + 2**k*step\n",
        "      k +=1\n",
        "      f1 = f(x1)\n",
        "      f0 = f(x0)\n",
        "      f2 = f(x2)\n",
        "   return (x1,x2)\n",
        "\n",
        "  elif f1 >= f0 <= f2:\n",
        "    return (x0 - abs(step), x0 + abs(step))\n",
        "\n",
        "  else:\n",
        "    return (\"Function is not unimodal\")\n"
      ]
    },
    {
      "cell_type": "code",
      "source": [
        "#Golden Section Method\n",
        "\n",
        "import math\n",
        "\n",
        "def gold_section(x,interval_length):\n",
        "\n",
        "  tau = (math.sqrt(5)-1)/2\n",
        "\n",
        "  x1 = x[0]\n",
        "  x2 = x[1]\n",
        "\n",
        "  while (x2 - x1) > interval_length:\n",
        "    if f(x1 + tau*(x2-x1)) < f(x2 - tau*(x2-x1)):\n",
        "      x1 = x2 - tau*(x2-x1)\n",
        "    else:\n",
        "      x2 = x1 + tau*(x2-x1)\n",
        "\n",
        "  return (x1+x2)/2"
      ],
      "metadata": {
        "id": "WtRTt_ceZ95K"
      },
      "execution_count": 121,
      "outputs": []
    },
    {
      "cell_type": "markdown",
      "source": [
        "Applying on Examples"
      ],
      "metadata": {
        "id": "W2RaMaREpOah"
      }
    },
    {
      "cell_type": "code",
      "source": [
        "#Example 1\n",
        "\n",
        "def f(x):\n",
        "  return -0.1*x/((1+0.1*x)*(1+0.05*x))\n",
        "\n",
        "x = round(gold_section(swan(f,1,0.5), 0.001),3)\n",
        "\n",
        "print(\"Optimal point is:\" + \" \" + str(x))"
      ],
      "metadata": {
        "colab": {
          "base_uri": "https://localhost:8080/"
        },
        "id": "gQoZ7Sj6pTDV",
        "outputId": "23abfe8a-49fe-4d91-8189-9f4a4682cfcb"
      },
      "execution_count": 128,
      "outputs": [
        {
          "output_type": "stream",
          "name": "stdout",
          "text": [
            "Optimal point is: 14.142\n"
          ]
        }
      ]
    },
    {
      "cell_type": "code",
      "source": [
        "#Example 2\n",
        "\n",
        "def f(x):\n",
        "  return x*(math.log(x))\n",
        "\n",
        "x = round(gold_section(swan(f,0.8,0.05), 0.001),3)\n",
        "\n",
        "print(\"Optimal point is:\" + \" \" + str(x))"
      ],
      "metadata": {
        "colab": {
          "base_uri": "https://localhost:8080/"
        },
        "id": "xH72me6ZAVJR",
        "outputId": "7dacfca2-34cb-465c-e34a-6e575f3ce8cf"
      },
      "execution_count": 130,
      "outputs": [
        {
          "output_type": "stream",
          "name": "stdout",
          "text": [
            "Optimal point is: 0.368\n"
          ]
        }
      ]
    },
    {
      "cell_type": "code",
      "source": [
        "#Example 3\n",
        "\n",
        "def f(x):\n",
        "  return 2*x**2 + 16/x\n",
        "\n",
        "x = round(gold_section(swan(f,1,0.5), 0.001),3)\n",
        "\n",
        "print(\"Optimal point is:\" + \" \" + str(x))"
      ],
      "metadata": {
        "colab": {
          "base_uri": "https://localhost:8080/"
        },
        "id": "q3dcWpN3qfKC",
        "outputId": "ef8213cb-c3c3-4694-e0f4-4ca33899cb0f"
      },
      "execution_count": 131,
      "outputs": [
        {
          "output_type": "stream",
          "name": "stdout",
          "text": [
            "Optimal point is: 1.587\n"
          ]
        }
      ]
    },
    {
      "cell_type": "code",
      "source": [
        "#Example 4\n",
        "\n",
        "def f(x):\n",
        "  return -4*x*(math.sin(x))\n",
        "\n",
        "x = round(gold_section(swan(f,1,0.5), 0.001),3)\n",
        "\n",
        "print(\"Optimal point is:\" + \" \" + str(x))"
      ],
      "metadata": {
        "colab": {
          "base_uri": "https://localhost:8080/"
        },
        "id": "0L8cmAtcs8Ny",
        "outputId": "ec761492-0c88-4734-f0d0-baeefab62fc9"
      },
      "execution_count": 132,
      "outputs": [
        {
          "output_type": "stream",
          "name": "stdout",
          "text": [
            "Optimal point is: 2.029\n"
          ]
        }
      ]
    }
  ]
}
